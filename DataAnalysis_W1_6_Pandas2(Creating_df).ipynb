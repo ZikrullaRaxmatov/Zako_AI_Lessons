{
  "cells": [
    {
      "cell_type": "markdown",
      "metadata": {
        "id": "view-in-github",
        "colab_type": "text"
      },
      "source": [
        "<a href=\"https://colab.research.google.com/github/ZikrullaRaxmatov/Zako_AI_Lessons/blob/main/DataAnalysis_W1_6_Pandas2(Creating_df).ipynb\" target=\"_parent\"><img src=\"https://colab.research.google.com/assets/colab-badge.svg\" alt=\"Open In Colab\"/></a>"
      ]
    },
    {
      "cell_type": "markdown",
      "metadata": {
        "id": "rn4bx7rJb37N"
      },
      "source": [
        "# Zako-ai"
      ]
    },
    {
      "cell_type": "markdown",
      "metadata": {
        "id": "TjRB4R-xb37R"
      },
      "source": [
        "# DataFrame yaratish  \n",
        "Biz Python'dagi boshqa ma'lumot tuzilmalardan, CSV fayllarini o'qish va ma'lumotlar bazasidan so'rov qilish orqali `DataFrame` obyektlarini yaratamiz.  \n",
        "\n",
        "## Ma'lumotlar haqida  \n",
        "Ushbu daftarda biz 2018-yil 18-sentabrdan 13-oktabrgacha bo'lgan zilzilalar ma'lumotlari bilan ishlaymiz (AQSh Geologiya Xizmatining [USGS API](https://earthquake.usgs.gov/fdsnws/event/1/) orqali olingan).  \n",
        "\n",
        "## Importlar  \n"
      ]
    },
    {
      "cell_type": "code",
      "execution_count": null,
      "metadata": {
        "id": "WusCItPCb37U"
      },
      "outputs": [],
      "source": [
        "import datetime as dt\n",
        "import numpy as np\n",
        "import pandas as pd"
      ]
    },
    {
      "cell_type": "markdown",
      "metadata": {
        "id": "0y--4Eyyb37V"
      },
      "source": [
        "## `Series` obyektini (object) yaratish"
      ]
    },
    {
      "cell_type": "code",
      "execution_count": null,
      "metadata": {
        "id": "rrGY8-CWb37W",
        "outputId": "d9a4bd78-1955-4275-ad3d-7488b48c20b9"
      },
      "outputs": [
        {
          "data": {
            "text/plain": [
              "0    0.548814\n",
              "1    0.715189\n",
              "2    0.602763\n",
              "3    0.544883\n",
              "4    0.423655\n",
              "Name: random, dtype: float64"
            ]
          },
          "execution_count": 21,
          "metadata": {},
          "output_type": "execute_result"
        }
      ],
      "source": [
        "np.random.seed(0) # set a seed for reproducibility\n",
        "pd.Series(np.random.rand(5), name='random')"
      ]
    },
    {
      "cell_type": "markdown",
      "metadata": {
        "id": "lM4zNG4jb37Y"
      },
      "source": [
        "## `Series` dan  `DataFrame` yaratish;\n",
        "`to_frame()` metodini ishlating:"
      ]
    },
    {
      "cell_type": "code",
      "execution_count": null,
      "metadata": {
        "id": "lOvZJXtab37Y",
        "outputId": "94a19ee6-67aa-4d72-b6b1-ebdd4c1fc614"
      },
      "outputs": [
        {
          "data": {
            "text/html": [
              "<div>\n",
              "<style scoped>\n",
              "    .dataframe tbody tr th:only-of-type {\n",
              "        vertical-align: middle;\n",
              "    }\n",
              "\n",
              "    .dataframe tbody tr th {\n",
              "        vertical-align: top;\n",
              "    }\n",
              "\n",
              "    .dataframe thead th {\n",
              "        text-align: right;\n",
              "    }\n",
              "</style>\n",
              "<table border=\"1\" class=\"dataframe\">\n",
              "  <thead>\n",
              "    <tr style=\"text-align: right;\">\n",
              "      <th></th>\n",
              "      <th>0</th>\n",
              "    </tr>\n",
              "  </thead>\n",
              "  <tbody>\n",
              "    <tr>\n",
              "      <th>0</th>\n",
              "      <td>0.0</td>\n",
              "    </tr>\n",
              "    <tr>\n",
              "      <th>1</th>\n",
              "      <td>2.5</td>\n",
              "    </tr>\n",
              "    <tr>\n",
              "      <th>2</th>\n",
              "      <td>5.0</td>\n",
              "    </tr>\n",
              "    <tr>\n",
              "      <th>3</th>\n",
              "      <td>7.5</td>\n",
              "    </tr>\n",
              "    <tr>\n",
              "      <th>4</th>\n",
              "      <td>10.0</td>\n",
              "    </tr>\n",
              "  </tbody>\n",
              "</table>\n",
              "</div>"
            ],
            "text/plain": [
              "      0\n",
              "0   0.0\n",
              "1   2.5\n",
              "2   5.0\n",
              "3   7.5\n",
              "4  10.0"
            ]
          },
          "execution_count": 22,
          "metadata": {},
          "output_type": "execute_result"
        }
      ],
      "source": [
        "pd.Series(np.linspace(0, 10, num=5)).to_frame()"
      ]
    },
    {
      "cell_type": "markdown",
      "metadata": {
        "id": "l2x0wgcqb37Z"
      },
      "source": [
        "## Python ma'lumot strukturalaridan `DataFrame` yaratish  \n",
        "### `list` yoki `dictionary` dan `DataFrame` yaratish  \n",
        "Dictionary qiymatlari listlar, NumPy array'lar va shunga o'xshash uzunlikka ega ma'lumotlar bo'lishi mumkin (generatorlar uzunlikka ega emasligi sababli ularni bu yerda ishlatib bo'lmaydi):"
      ]
    },
    {
      "cell_type": "code",
      "execution_count": null,
      "metadata": {
        "id": "kZcQqJkWb37Z",
        "outputId": "1a3dfca0-6f5d-4303-a0cd-51faa3c95f1b"
      },
      "outputs": [
        {
          "data": {
            "text/html": [
              "<div>\n",
              "<style scoped>\n",
              "    .dataframe tbody tr th:only-of-type {\n",
              "        vertical-align: middle;\n",
              "    }\n",
              "\n",
              "    .dataframe tbody tr th {\n",
              "        vertical-align: top;\n",
              "    }\n",
              "\n",
              "    .dataframe thead th {\n",
              "        text-align: right;\n",
              "    }\n",
              "</style>\n",
              "<table border=\"1\" class=\"dataframe\">\n",
              "  <thead>\n",
              "    <tr style=\"text-align: right;\">\n",
              "      <th></th>\n",
              "      <th>random</th>\n",
              "      <th>text</th>\n",
              "      <th>truth</th>\n",
              "    </tr>\n",
              "    <tr>\n",
              "      <th>date</th>\n",
              "      <th></th>\n",
              "      <th></th>\n",
              "      <th></th>\n",
              "    </tr>\n",
              "  </thead>\n",
              "  <tbody>\n",
              "    <tr>\n",
              "      <th>2025-01-17</th>\n",
              "      <td>0.548814</td>\n",
              "      <td>hot</td>\n",
              "      <td>False</td>\n",
              "    </tr>\n",
              "    <tr>\n",
              "      <th>2025-01-18</th>\n",
              "      <td>0.715189</td>\n",
              "      <td>warm</td>\n",
              "      <td>True</td>\n",
              "    </tr>\n",
              "    <tr>\n",
              "      <th>2025-01-19</th>\n",
              "      <td>0.602763</td>\n",
              "      <td>cool</td>\n",
              "      <td>True</td>\n",
              "    </tr>\n",
              "    <tr>\n",
              "      <th>2025-01-20</th>\n",
              "      <td>0.544883</td>\n",
              "      <td>cold</td>\n",
              "      <td>False</td>\n",
              "    </tr>\n",
              "    <tr>\n",
              "      <th>2025-01-21</th>\n",
              "      <td>0.423655</td>\n",
              "      <td>None</td>\n",
              "      <td>True</td>\n",
              "    </tr>\n",
              "  </tbody>\n",
              "</table>\n",
              "</div>"
            ],
            "text/plain": [
              "              random  text  truth\n",
              "date                             \n",
              "2025-01-17  0.548814   hot  False\n",
              "2025-01-18  0.715189  warm   True\n",
              "2025-01-19  0.602763  cool   True\n",
              "2025-01-20  0.544883  cold  False\n",
              "2025-01-21  0.423655  None   True"
            ]
          },
          "execution_count": 9,
          "metadata": {},
          "output_type": "execute_result"
        }
      ],
      "source": [
        "np.random.seed(0) # set seed so result is reproducible\n",
        "pd.DataFrame(\n",
        "    {\n",
        "        'random': np.random.rand(5),\n",
        "        'text': ['hot', 'warm', 'cool', 'cold', None],\n",
        "        'truth': [np.random.choice([True, False]) for _ in range(5)]\n",
        "    },\n",
        "    index=pd.date_range(\n",
        "        end=dt.date(2025, 1, 21),\n",
        "        freq='1D',\n",
        "        periods=5,\n",
        "        name='date'\n",
        "    )\n",
        ")"
      ]
    },
    {
      "cell_type": "markdown",
      "metadata": {
        "id": "LyqTpXA9b37a"
      },
      "source": [
        "### List ichida joylashgan `dictionary`larda foydalanib yaratish"
      ]
    },
    {
      "cell_type": "code",
      "execution_count": null,
      "metadata": {
        "id": "Og2dOzGab37b",
        "outputId": "1e808e20-0042-4133-fb04-c7c400acb685"
      },
      "outputs": [
        {
          "data": {
            "text/html": [
              "<div>\n",
              "<style scoped>\n",
              "    .dataframe tbody tr th:only-of-type {\n",
              "        vertical-align: middle;\n",
              "    }\n",
              "\n",
              "    .dataframe tbody tr th {\n",
              "        vertical-align: top;\n",
              "    }\n",
              "\n",
              "    .dataframe thead th {\n",
              "        text-align: right;\n",
              "    }\n",
              "</style>\n",
              "<table border=\"1\" class=\"dataframe\">\n",
              "  <thead>\n",
              "    <tr style=\"text-align: right;\">\n",
              "      <th></th>\n",
              "      <th>mag</th>\n",
              "      <th>place</th>\n",
              "    </tr>\n",
              "  </thead>\n",
              "  <tbody>\n",
              "    <tr>\n",
              "      <th>0</th>\n",
              "      <td>5.2</td>\n",
              "      <td>California</td>\n",
              "    </tr>\n",
              "    <tr>\n",
              "      <th>1</th>\n",
              "      <td>1.2</td>\n",
              "      <td>Tashkent</td>\n",
              "    </tr>\n",
              "    <tr>\n",
              "      <th>2</th>\n",
              "      <td>0.2</td>\n",
              "      <td>California</td>\n",
              "    </tr>\n",
              "  </tbody>\n",
              "</table>\n",
              "</div>"
            ],
            "text/plain": [
              "   mag       place\n",
              "0  5.2  California\n",
              "1  1.2    Tashkent\n",
              "2  0.2  California"
            ]
          },
          "execution_count": 11,
          "metadata": {},
          "output_type": "execute_result"
        }
      ],
      "source": [
        "pd.DataFrame([\n",
        "    {'mag': 5.2, 'place': 'California'},\n",
        "    {'mag': 1.2, 'place': 'Tashkent'},\n",
        "    {'mag': 0.2, 'place': 'California'},\n",
        "])"
      ]
    },
    {
      "cell_type": "markdown",
      "metadata": {
        "id": "G-G9Ry_jb37c"
      },
      "source": [
        "### List ichidagi `tuple`lardan dataframe yaratish"
      ]
    },
    {
      "cell_type": "code",
      "execution_count": null,
      "metadata": {
        "id": "tja-iTLQb37c",
        "outputId": "89ef99a1-a9c3-4f5b-8afe-61ecd99f7fda"
      },
      "outputs": [
        {
          "data": {
            "text/plain": [
              "[(0, 0, 0), (1, 1, 1), (2, 4, 8), (3, 9, 27), (4, 16, 64)]"
            ]
          },
          "execution_count": 12,
          "metadata": {},
          "output_type": "execute_result"
        }
      ],
      "source": [
        "list_of_tuples = [(n, n**2, n**3) for n in range(5)]\n",
        "list_of_tuples"
      ]
    },
    {
      "cell_type": "code",
      "execution_count": null,
      "metadata": {
        "id": "MRd9Ezj5b37c",
        "outputId": "5b4aeff1-476e-48a5-e183-5693e1324aae"
      },
      "outputs": [
        {
          "data": {
            "text/html": [
              "<div>\n",
              "<style scoped>\n",
              "    .dataframe tbody tr th:only-of-type {\n",
              "        vertical-align: middle;\n",
              "    }\n",
              "\n",
              "    .dataframe tbody tr th {\n",
              "        vertical-align: top;\n",
              "    }\n",
              "\n",
              "    .dataframe thead th {\n",
              "        text-align: right;\n",
              "    }\n",
              "</style>\n",
              "<table border=\"1\" class=\"dataframe\">\n",
              "  <thead>\n",
              "    <tr style=\"text-align: right;\">\n",
              "      <th></th>\n",
              "      <th>n</th>\n",
              "      <th>n_squared</th>\n",
              "      <th>n_cubed</th>\n",
              "    </tr>\n",
              "  </thead>\n",
              "  <tbody>\n",
              "    <tr>\n",
              "      <th>0</th>\n",
              "      <td>0</td>\n",
              "      <td>0</td>\n",
              "      <td>0</td>\n",
              "    </tr>\n",
              "    <tr>\n",
              "      <th>1</th>\n",
              "      <td>1</td>\n",
              "      <td>1</td>\n",
              "      <td>1</td>\n",
              "    </tr>\n",
              "    <tr>\n",
              "      <th>2</th>\n",
              "      <td>2</td>\n",
              "      <td>4</td>\n",
              "      <td>8</td>\n",
              "    </tr>\n",
              "    <tr>\n",
              "      <th>3</th>\n",
              "      <td>3</td>\n",
              "      <td>9</td>\n",
              "      <td>27</td>\n",
              "    </tr>\n",
              "    <tr>\n",
              "      <th>4</th>\n",
              "      <td>4</td>\n",
              "      <td>16</td>\n",
              "      <td>64</td>\n",
              "    </tr>\n",
              "  </tbody>\n",
              "</table>\n",
              "</div>"
            ],
            "text/plain": [
              "   n  n_squared  n_cubed\n",
              "0  0          0        0\n",
              "1  1          1        1\n",
              "2  2          4        8\n",
              "3  3          9       27\n",
              "4  4         16       64"
            ]
          },
          "execution_count": 13,
          "metadata": {},
          "output_type": "execute_result"
        }
      ],
      "source": [
        "pd.DataFrame(\n",
        "    list_of_tuples,\n",
        "    columns=['n', 'n_squared', 'n_cubed']\n",
        ")"
      ]
    },
    {
      "cell_type": "markdown",
      "metadata": {
        "id": "hHUQ08cLb37d"
      },
      "source": [
        "### NumPy arrayidan yaratish"
      ]
    },
    {
      "cell_type": "code",
      "execution_count": null,
      "metadata": {
        "id": "iPpb3BuPb37d",
        "outputId": "8b3e7155-8970-4982-c6be-6fbf8b1a08eb"
      },
      "outputs": [
        {
          "data": {
            "text/html": [
              "<div>\n",
              "<style scoped>\n",
              "    .dataframe tbody tr th:only-of-type {\n",
              "        vertical-align: middle;\n",
              "    }\n",
              "\n",
              "    .dataframe tbody tr th {\n",
              "        vertical-align: top;\n",
              "    }\n",
              "\n",
              "    .dataframe thead th {\n",
              "        text-align: right;\n",
              "    }\n",
              "</style>\n",
              "<table border=\"1\" class=\"dataframe\">\n",
              "  <thead>\n",
              "    <tr style=\"text-align: right;\">\n",
              "      <th></th>\n",
              "      <th>n</th>\n",
              "      <th>n_squared</th>\n",
              "      <th>n_cubed</th>\n",
              "    </tr>\n",
              "  </thead>\n",
              "  <tbody>\n",
              "    <tr>\n",
              "      <th>0</th>\n",
              "      <td>0</td>\n",
              "      <td>0</td>\n",
              "      <td>0</td>\n",
              "    </tr>\n",
              "    <tr>\n",
              "      <th>1</th>\n",
              "      <td>1</td>\n",
              "      <td>1</td>\n",
              "      <td>1</td>\n",
              "    </tr>\n",
              "    <tr>\n",
              "      <th>2</th>\n",
              "      <td>2</td>\n",
              "      <td>4</td>\n",
              "      <td>8</td>\n",
              "    </tr>\n",
              "    <tr>\n",
              "      <th>3</th>\n",
              "      <td>3</td>\n",
              "      <td>9</td>\n",
              "      <td>27</td>\n",
              "    </tr>\n",
              "    <tr>\n",
              "      <th>4</th>\n",
              "      <td>4</td>\n",
              "      <td>16</td>\n",
              "      <td>64</td>\n",
              "    </tr>\n",
              "  </tbody>\n",
              "</table>\n",
              "</div>"
            ],
            "text/plain": [
              "   n  n_squared  n_cubed\n",
              "0  0          0        0\n",
              "1  1          1        1\n",
              "2  2          4        8\n",
              "3  3          9       27\n",
              "4  4         16       64"
            ]
          },
          "execution_count": 14,
          "metadata": {},
          "output_type": "execute_result"
        }
      ],
      "source": [
        "pd.DataFrame(\n",
        "    np.array([\n",
        "        [0, 0, 0],\n",
        "        [1, 1, 1],\n",
        "        [2, 4, 8],\n",
        "        [3, 9, 27],\n",
        "        [4, 16, 64]\n",
        "    ]), columns=['n', 'n_squared', 'n_cubed']\n",
        ")"
      ]
    },
    {
      "cell_type": "markdown",
      "metadata": {
        "id": "KLAXrDVPb37e"
      },
      "source": [
        "## `DataFrame` obyektini (object) CSV fayl konentidan yaratish\n",
        "\n",
        "`read_csv()`, `read_excel()` va h.k.  (https://pandas.pydata.org/docs/user_guide/io.html)"
      ]
    },
    {
      "cell_type": "code",
      "execution_count": null,
      "metadata": {
        "id": "lHbauglXb37e"
      },
      "outputs": [],
      "source": [
        "df = pd.read_csv('../data/earthquakes.csv')"
      ]
    },
    {
      "cell_type": "code",
      "source": [
        "data2 = pd.read_csv('https://github.com/Zako-ai/CourseMaterials/blob/main/DataAnalysis-1/data/earthquakes.csv')"
      ],
      "metadata": {
        "colab": {
          "base_uri": "https://localhost:8080/",
          "height": 485
        },
        "id": "SoFBErJzeBGS",
        "outputId": "027ee926-066c-4114-c1bc-e9bc35e23e23"
      },
      "execution_count": null,
      "outputs": [
        {
          "output_type": "error",
          "ename": "ParserError",
          "evalue": "Error tokenizing data. C error: Expected 1 fields in line 44, saw 29\n",
          "traceback": [
            "\u001b[0;31m---------------------------------------------------------------------------\u001b[0m",
            "\u001b[0;31mParserError\u001b[0m                               Traceback (most recent call last)",
            "\u001b[0;32m<ipython-input-6-3249fdc9daf2>\u001b[0m in \u001b[0;36m<cell line: 0>\u001b[0;34m()\u001b[0m\n\u001b[0;32m----> 1\u001b[0;31m \u001b[0mdata2\u001b[0m \u001b[0;34m=\u001b[0m \u001b[0mpd\u001b[0m\u001b[0;34m.\u001b[0m\u001b[0mread_csv\u001b[0m\u001b[0;34m(\u001b[0m\u001b[0;34m'https://github.com/Zako-ai/CourseMaterials/blob/main/DataAnalysis-1/data/earthquakes.csv'\u001b[0m\u001b[0;34m)\u001b[0m\u001b[0;34m\u001b[0m\u001b[0;34m\u001b[0m\u001b[0m\n\u001b[0m",
            "\u001b[0;32m/usr/local/lib/python3.11/dist-packages/pandas/io/parsers/readers.py\u001b[0m in \u001b[0;36mread_csv\u001b[0;34m(filepath_or_buffer, sep, delimiter, header, names, index_col, usecols, dtype, engine, converters, true_values, false_values, skipinitialspace, skiprows, skipfooter, nrows, na_values, keep_default_na, na_filter, verbose, skip_blank_lines, parse_dates, infer_datetime_format, keep_date_col, date_parser, date_format, dayfirst, cache_dates, iterator, chunksize, compression, thousands, decimal, lineterminator, quotechar, quoting, doublequote, escapechar, comment, encoding, encoding_errors, dialect, on_bad_lines, delim_whitespace, low_memory, memory_map, float_precision, storage_options, dtype_backend)\u001b[0m\n\u001b[1;32m   1024\u001b[0m     \u001b[0mkwds\u001b[0m\u001b[0;34m.\u001b[0m\u001b[0mupdate\u001b[0m\u001b[0;34m(\u001b[0m\u001b[0mkwds_defaults\u001b[0m\u001b[0;34m)\u001b[0m\u001b[0;34m\u001b[0m\u001b[0;34m\u001b[0m\u001b[0m\n\u001b[1;32m   1025\u001b[0m \u001b[0;34m\u001b[0m\u001b[0m\n\u001b[0;32m-> 1026\u001b[0;31m     \u001b[0;32mreturn\u001b[0m \u001b[0m_read\u001b[0m\u001b[0;34m(\u001b[0m\u001b[0mfilepath_or_buffer\u001b[0m\u001b[0;34m,\u001b[0m \u001b[0mkwds\u001b[0m\u001b[0;34m)\u001b[0m\u001b[0;34m\u001b[0m\u001b[0;34m\u001b[0m\u001b[0m\n\u001b[0m\u001b[1;32m   1027\u001b[0m \u001b[0;34m\u001b[0m\u001b[0m\n\u001b[1;32m   1028\u001b[0m \u001b[0;34m\u001b[0m\u001b[0m\n",
            "\u001b[0;32m/usr/local/lib/python3.11/dist-packages/pandas/io/parsers/readers.py\u001b[0m in \u001b[0;36m_read\u001b[0;34m(filepath_or_buffer, kwds)\u001b[0m\n\u001b[1;32m    624\u001b[0m \u001b[0;34m\u001b[0m\u001b[0m\n\u001b[1;32m    625\u001b[0m     \u001b[0;32mwith\u001b[0m \u001b[0mparser\u001b[0m\u001b[0;34m:\u001b[0m\u001b[0;34m\u001b[0m\u001b[0;34m\u001b[0m\u001b[0m\n\u001b[0;32m--> 626\u001b[0;31m         \u001b[0;32mreturn\u001b[0m \u001b[0mparser\u001b[0m\u001b[0;34m.\u001b[0m\u001b[0mread\u001b[0m\u001b[0;34m(\u001b[0m\u001b[0mnrows\u001b[0m\u001b[0;34m)\u001b[0m\u001b[0;34m\u001b[0m\u001b[0;34m\u001b[0m\u001b[0m\n\u001b[0m\u001b[1;32m    627\u001b[0m \u001b[0;34m\u001b[0m\u001b[0m\n\u001b[1;32m    628\u001b[0m \u001b[0;34m\u001b[0m\u001b[0m\n",
            "\u001b[0;32m/usr/local/lib/python3.11/dist-packages/pandas/io/parsers/readers.py\u001b[0m in \u001b[0;36mread\u001b[0;34m(self, nrows)\u001b[0m\n\u001b[1;32m   1921\u001b[0m                     \u001b[0mcolumns\u001b[0m\u001b[0;34m,\u001b[0m\u001b[0;34m\u001b[0m\u001b[0;34m\u001b[0m\u001b[0m\n\u001b[1;32m   1922\u001b[0m                     \u001b[0mcol_dict\u001b[0m\u001b[0;34m,\u001b[0m\u001b[0;34m\u001b[0m\u001b[0;34m\u001b[0m\u001b[0m\n\u001b[0;32m-> 1923\u001b[0;31m                 \u001b[0;34m)\u001b[0m \u001b[0;34m=\u001b[0m \u001b[0mself\u001b[0m\u001b[0;34m.\u001b[0m\u001b[0m_engine\u001b[0m\u001b[0;34m.\u001b[0m\u001b[0mread\u001b[0m\u001b[0;34m(\u001b[0m  \u001b[0;31m# type: ignore[attr-defined]\u001b[0m\u001b[0;34m\u001b[0m\u001b[0;34m\u001b[0m\u001b[0m\n\u001b[0m\u001b[1;32m   1924\u001b[0m                     \u001b[0mnrows\u001b[0m\u001b[0;34m\u001b[0m\u001b[0;34m\u001b[0m\u001b[0m\n\u001b[1;32m   1925\u001b[0m                 )\n",
            "\u001b[0;32m/usr/local/lib/python3.11/dist-packages/pandas/io/parsers/c_parser_wrapper.py\u001b[0m in \u001b[0;36mread\u001b[0;34m(self, nrows)\u001b[0m\n\u001b[1;32m    232\u001b[0m         \u001b[0;32mtry\u001b[0m\u001b[0;34m:\u001b[0m\u001b[0;34m\u001b[0m\u001b[0;34m\u001b[0m\u001b[0m\n\u001b[1;32m    233\u001b[0m             \u001b[0;32mif\u001b[0m \u001b[0mself\u001b[0m\u001b[0;34m.\u001b[0m\u001b[0mlow_memory\u001b[0m\u001b[0;34m:\u001b[0m\u001b[0;34m\u001b[0m\u001b[0;34m\u001b[0m\u001b[0m\n\u001b[0;32m--> 234\u001b[0;31m                 \u001b[0mchunks\u001b[0m \u001b[0;34m=\u001b[0m \u001b[0mself\u001b[0m\u001b[0;34m.\u001b[0m\u001b[0m_reader\u001b[0m\u001b[0;34m.\u001b[0m\u001b[0mread_low_memory\u001b[0m\u001b[0;34m(\u001b[0m\u001b[0mnrows\u001b[0m\u001b[0;34m)\u001b[0m\u001b[0;34m\u001b[0m\u001b[0;34m\u001b[0m\u001b[0m\n\u001b[0m\u001b[1;32m    235\u001b[0m                 \u001b[0;31m# destructive to chunks\u001b[0m\u001b[0;34m\u001b[0m\u001b[0;34m\u001b[0m\u001b[0m\n\u001b[1;32m    236\u001b[0m                 \u001b[0mdata\u001b[0m \u001b[0;34m=\u001b[0m \u001b[0m_concatenate_chunks\u001b[0m\u001b[0;34m(\u001b[0m\u001b[0mchunks\u001b[0m\u001b[0;34m)\u001b[0m\u001b[0;34m\u001b[0m\u001b[0;34m\u001b[0m\u001b[0m\n",
            "\u001b[0;32mparsers.pyx\u001b[0m in \u001b[0;36mpandas._libs.parsers.TextReader.read_low_memory\u001b[0;34m()\u001b[0m\n",
            "\u001b[0;32mparsers.pyx\u001b[0m in \u001b[0;36mpandas._libs.parsers.TextReader._read_rows\u001b[0;34m()\u001b[0m\n",
            "\u001b[0;32mparsers.pyx\u001b[0m in \u001b[0;36mpandas._libs.parsers.TextReader._tokenize_rows\u001b[0;34m()\u001b[0m\n",
            "\u001b[0;32mparsers.pyx\u001b[0m in \u001b[0;36mpandas._libs.parsers.TextReader._check_tokenize_status\u001b[0;34m()\u001b[0m\n",
            "\u001b[0;32mparsers.pyx\u001b[0m in \u001b[0;36mpandas._libs.parsers.raise_parser_error\u001b[0;34m()\u001b[0m\n",
            "\u001b[0;31mParserError\u001b[0m: Error tokenizing data. C error: Expected 1 fields in line 44, saw 29\n"
          ]
        }
      ]
    },
    {
      "cell_type": "markdown",
      "metadata": {
        "id": "ChdQdrhDb37f"
      },
      "source": [
        "Note that we can also pass in a URL. Let's read this same file from GitHub:"
      ]
    },
    {
      "cell_type": "code",
      "execution_count": null,
      "metadata": {
        "id": "cSFO_Sdab37f"
      },
      "outputs": [],
      "source": [
        "df = pd.read_csv(\n",
        "    'https://raw.githubusercontent.com/Zako-ai/CourseMaterials/refs/heads/main/DataAnalysis-1/data/earthquakes.csv'\n",
        ")"
      ]
    },
    {
      "cell_type": "code",
      "execution_count": null,
      "metadata": {
        "id": "aul5izhNb37f",
        "outputId": "d6820009-d4f8-42f8-8c6f-b149aadf995a"
      },
      "outputs": [
        {
          "data": {
            "text/html": [
              "<div>\n",
              "<style scoped>\n",
              "    .dataframe tbody tr th:only-of-type {\n",
              "        vertical-align: middle;\n",
              "    }\n",
              "\n",
              "    .dataframe tbody tr th {\n",
              "        vertical-align: top;\n",
              "    }\n",
              "\n",
              "    .dataframe thead th {\n",
              "        text-align: right;\n",
              "    }\n",
              "</style>\n",
              "<table border=\"1\" class=\"dataframe\">\n",
              "  <thead>\n",
              "    <tr style=\"text-align: right;\">\n",
              "      <th></th>\n",
              "      <th>alert</th>\n",
              "      <th>cdi</th>\n",
              "      <th>code</th>\n",
              "      <th>detail</th>\n",
              "      <th>dmin</th>\n",
              "      <th>felt</th>\n",
              "      <th>gap</th>\n",
              "      <th>ids</th>\n",
              "      <th>mag</th>\n",
              "      <th>magType</th>\n",
              "      <th>...</th>\n",
              "      <th>sources</th>\n",
              "      <th>status</th>\n",
              "      <th>time</th>\n",
              "      <th>title</th>\n",
              "      <th>tsunami</th>\n",
              "      <th>type</th>\n",
              "      <th>types</th>\n",
              "      <th>tz</th>\n",
              "      <th>updated</th>\n",
              "      <th>url</th>\n",
              "    </tr>\n",
              "  </thead>\n",
              "  <tbody>\n",
              "    <tr>\n",
              "      <th>0</th>\n",
              "      <td>NaN</td>\n",
              "      <td>NaN</td>\n",
              "      <td>37389218</td>\n",
              "      <td>https://earthquake.usgs.gov/fdsnws/event/1/que...</td>\n",
              "      <td>0.008693</td>\n",
              "      <td>NaN</td>\n",
              "      <td>85.0</td>\n",
              "      <td>,ci37389218,</td>\n",
              "      <td>1.35</td>\n",
              "      <td>ml</td>\n",
              "      <td>...</td>\n",
              "      <td>,ci,</td>\n",
              "      <td>automatic</td>\n",
              "      <td>1539475168010</td>\n",
              "      <td>M 1.4 - 9km NE of Aguanga, CA</td>\n",
              "      <td>0</td>\n",
              "      <td>earthquake</td>\n",
              "      <td>,geoserve,nearby-cities,origin,phase-data,</td>\n",
              "      <td>-480.0</td>\n",
              "      <td>1539475395144</td>\n",
              "      <td>https://earthquake.usgs.gov/earthquakes/eventp...</td>\n",
              "    </tr>\n",
              "    <tr>\n",
              "      <th>1</th>\n",
              "      <td>NaN</td>\n",
              "      <td>NaN</td>\n",
              "      <td>37389202</td>\n",
              "      <td>https://earthquake.usgs.gov/fdsnws/event/1/que...</td>\n",
              "      <td>0.020030</td>\n",
              "      <td>NaN</td>\n",
              "      <td>79.0</td>\n",
              "      <td>,ci37389202,</td>\n",
              "      <td>1.29</td>\n",
              "      <td>ml</td>\n",
              "      <td>...</td>\n",
              "      <td>,ci,</td>\n",
              "      <td>automatic</td>\n",
              "      <td>1539475129610</td>\n",
              "      <td>M 1.3 - 9km NE of Aguanga, CA</td>\n",
              "      <td>0</td>\n",
              "      <td>earthquake</td>\n",
              "      <td>,geoserve,nearby-cities,origin,phase-data,</td>\n",
              "      <td>-480.0</td>\n",
              "      <td>1539475253925</td>\n",
              "      <td>https://earthquake.usgs.gov/earthquakes/eventp...</td>\n",
              "    </tr>\n",
              "    <tr>\n",
              "      <th>2</th>\n",
              "      <td>NaN</td>\n",
              "      <td>4.4</td>\n",
              "      <td>37389194</td>\n",
              "      <td>https://earthquake.usgs.gov/fdsnws/event/1/que...</td>\n",
              "      <td>0.021370</td>\n",
              "      <td>28.0</td>\n",
              "      <td>21.0</td>\n",
              "      <td>,ci37389194,</td>\n",
              "      <td>3.42</td>\n",
              "      <td>ml</td>\n",
              "      <td>...</td>\n",
              "      <td>,ci,</td>\n",
              "      <td>automatic</td>\n",
              "      <td>1539475062610</td>\n",
              "      <td>M 3.4 - 8km NE of Aguanga, CA</td>\n",
              "      <td>0</td>\n",
              "      <td>earthquake</td>\n",
              "      <td>,dyfi,focal-mechanism,geoserve,nearby-cities,o...</td>\n",
              "      <td>-480.0</td>\n",
              "      <td>1539536756176</td>\n",
              "      <td>https://earthquake.usgs.gov/earthquakes/eventp...</td>\n",
              "    </tr>\n",
              "    <tr>\n",
              "      <th>3</th>\n",
              "      <td>NaN</td>\n",
              "      <td>NaN</td>\n",
              "      <td>37389186</td>\n",
              "      <td>https://earthquake.usgs.gov/fdsnws/event/1/que...</td>\n",
              "      <td>0.026180</td>\n",
              "      <td>NaN</td>\n",
              "      <td>39.0</td>\n",
              "      <td>,ci37389186,</td>\n",
              "      <td>0.44</td>\n",
              "      <td>ml</td>\n",
              "      <td>...</td>\n",
              "      <td>,ci,</td>\n",
              "      <td>automatic</td>\n",
              "      <td>1539474978070</td>\n",
              "      <td>M 0.4 - 9km NE of Aguanga, CA</td>\n",
              "      <td>0</td>\n",
              "      <td>earthquake</td>\n",
              "      <td>,geoserve,nearby-cities,origin,phase-data,</td>\n",
              "      <td>-480.0</td>\n",
              "      <td>1539475196167</td>\n",
              "      <td>https://earthquake.usgs.gov/earthquakes/eventp...</td>\n",
              "    </tr>\n",
              "    <tr>\n",
              "      <th>4</th>\n",
              "      <td>NaN</td>\n",
              "      <td>NaN</td>\n",
              "      <td>73096941</td>\n",
              "      <td>https://earthquake.usgs.gov/fdsnws/event/1/que...</td>\n",
              "      <td>0.077990</td>\n",
              "      <td>NaN</td>\n",
              "      <td>192.0</td>\n",
              "      <td>,nc73096941,</td>\n",
              "      <td>2.16</td>\n",
              "      <td>md</td>\n",
              "      <td>...</td>\n",
              "      <td>,nc,</td>\n",
              "      <td>automatic</td>\n",
              "      <td>1539474716050</td>\n",
              "      <td>M 2.2 - 10km NW of Avenal, CA</td>\n",
              "      <td>0</td>\n",
              "      <td>earthquake</td>\n",
              "      <td>,geoserve,nearby-cities,origin,phase-data,scit...</td>\n",
              "      <td>-480.0</td>\n",
              "      <td>1539477547926</td>\n",
              "      <td>https://earthquake.usgs.gov/earthquakes/eventp...</td>\n",
              "    </tr>\n",
              "    <tr>\n",
              "      <th>...</th>\n",
              "      <td>...</td>\n",
              "      <td>...</td>\n",
              "      <td>...</td>\n",
              "      <td>...</td>\n",
              "      <td>...</td>\n",
              "      <td>...</td>\n",
              "      <td>...</td>\n",
              "      <td>...</td>\n",
              "      <td>...</td>\n",
              "      <td>...</td>\n",
              "      <td>...</td>\n",
              "      <td>...</td>\n",
              "      <td>...</td>\n",
              "      <td>...</td>\n",
              "      <td>...</td>\n",
              "      <td>...</td>\n",
              "      <td>...</td>\n",
              "      <td>...</td>\n",
              "      <td>...</td>\n",
              "      <td>...</td>\n",
              "      <td>...</td>\n",
              "    </tr>\n",
              "    <tr>\n",
              "      <th>9327</th>\n",
              "      <td>NaN</td>\n",
              "      <td>NaN</td>\n",
              "      <td>73086771</td>\n",
              "      <td>https://earthquake.usgs.gov/fdsnws/event/1/que...</td>\n",
              "      <td>0.018060</td>\n",
              "      <td>NaN</td>\n",
              "      <td>185.0</td>\n",
              "      <td>,nc73086771,</td>\n",
              "      <td>0.62</td>\n",
              "      <td>md</td>\n",
              "      <td>...</td>\n",
              "      <td>,nc,</td>\n",
              "      <td>reviewed</td>\n",
              "      <td>1537230228060</td>\n",
              "      <td>M 0.6 - 9km ENE of Mammoth Lakes, CA</td>\n",
              "      <td>0</td>\n",
              "      <td>earthquake</td>\n",
              "      <td>,geoserve,nearby-cities,origin,phase-data,</td>\n",
              "      <td>-480.0</td>\n",
              "      <td>1537285598315</td>\n",
              "      <td>https://earthquake.usgs.gov/earthquakes/eventp...</td>\n",
              "    </tr>\n",
              "    <tr>\n",
              "      <th>9328</th>\n",
              "      <td>NaN</td>\n",
              "      <td>NaN</td>\n",
              "      <td>38063967</td>\n",
              "      <td>https://earthquake.usgs.gov/fdsnws/event/1/que...</td>\n",
              "      <td>0.030410</td>\n",
              "      <td>NaN</td>\n",
              "      <td>50.0</td>\n",
              "      <td>,ci38063967,</td>\n",
              "      <td>1.00</td>\n",
              "      <td>ml</td>\n",
              "      <td>...</td>\n",
              "      <td>,ci,</td>\n",
              "      <td>reviewed</td>\n",
              "      <td>1537230135130</td>\n",
              "      <td>M 1.0 - 3km W of Julian, CA</td>\n",
              "      <td>0</td>\n",
              "      <td>earthquake</td>\n",
              "      <td>,geoserve,nearby-cities,origin,phase-data,scit...</td>\n",
              "      <td>-480.0</td>\n",
              "      <td>1537276800970</td>\n",
              "      <td>https://earthquake.usgs.gov/earthquakes/eventp...</td>\n",
              "    </tr>\n",
              "    <tr>\n",
              "      <th>9329</th>\n",
              "      <td>NaN</td>\n",
              "      <td>NaN</td>\n",
              "      <td>2018261000</td>\n",
              "      <td>https://earthquake.usgs.gov/fdsnws/event/1/que...</td>\n",
              "      <td>0.452600</td>\n",
              "      <td>NaN</td>\n",
              "      <td>276.0</td>\n",
              "      <td>,pr2018261000,</td>\n",
              "      <td>2.40</td>\n",
              "      <td>md</td>\n",
              "      <td>...</td>\n",
              "      <td>,pr,</td>\n",
              "      <td>reviewed</td>\n",
              "      <td>1537229908180</td>\n",
              "      <td>M 2.4 - 35km NNE of Hatillo, Puerto Rico</td>\n",
              "      <td>0</td>\n",
              "      <td>earthquake</td>\n",
              "      <td>,geoserve,origin,phase-data,</td>\n",
              "      <td>-240.0</td>\n",
              "      <td>1537243777410</td>\n",
              "      <td>https://earthquake.usgs.gov/earthquakes/eventp...</td>\n",
              "    </tr>\n",
              "    <tr>\n",
              "      <th>9330</th>\n",
              "      <td>NaN</td>\n",
              "      <td>NaN</td>\n",
              "      <td>38063959</td>\n",
              "      <td>https://earthquake.usgs.gov/fdsnws/event/1/que...</td>\n",
              "      <td>0.018650</td>\n",
              "      <td>NaN</td>\n",
              "      <td>61.0</td>\n",
              "      <td>,ci38063959,</td>\n",
              "      <td>1.10</td>\n",
              "      <td>ml</td>\n",
              "      <td>...</td>\n",
              "      <td>,ci,</td>\n",
              "      <td>reviewed</td>\n",
              "      <td>1537229545350</td>\n",
              "      <td>M 1.1 - 9km NE of Aguanga, CA</td>\n",
              "      <td>0</td>\n",
              "      <td>earthquake</td>\n",
              "      <td>,focal-mechanism,geoserve,nearby-cities,origin...</td>\n",
              "      <td>-480.0</td>\n",
              "      <td>1537230211640</td>\n",
              "      <td>https://earthquake.usgs.gov/earthquakes/eventp...</td>\n",
              "    </tr>\n",
              "    <tr>\n",
              "      <th>9331</th>\n",
              "      <td>NaN</td>\n",
              "      <td>NaN</td>\n",
              "      <td>38063935</td>\n",
              "      <td>https://earthquake.usgs.gov/fdsnws/event/1/que...</td>\n",
              "      <td>0.016980</td>\n",
              "      <td>NaN</td>\n",
              "      <td>39.0</td>\n",
              "      <td>,ci38063935,</td>\n",
              "      <td>0.66</td>\n",
              "      <td>ml</td>\n",
              "      <td>...</td>\n",
              "      <td>,ci,</td>\n",
              "      <td>reviewed</td>\n",
              "      <td>1537228864470</td>\n",
              "      <td>M 0.7 - 9km NE of Aguanga, CA</td>\n",
              "      <td>0</td>\n",
              "      <td>earthquake</td>\n",
              "      <td>,focal-mechanism,geoserve,nearby-cities,origin...</td>\n",
              "      <td>-480.0</td>\n",
              "      <td>1537305830770</td>\n",
              "      <td>https://earthquake.usgs.gov/earthquakes/eventp...</td>\n",
              "    </tr>\n",
              "  </tbody>\n",
              "</table>\n",
              "<p>9332 rows × 26 columns</p>\n",
              "</div>"
            ],
            "text/plain": [
              "     alert  cdi        code  \\\n",
              "0      NaN  NaN    37389218   \n",
              "1      NaN  NaN    37389202   \n",
              "2      NaN  4.4    37389194   \n",
              "3      NaN  NaN    37389186   \n",
              "4      NaN  NaN    73096941   \n",
              "...    ...  ...         ...   \n",
              "9327   NaN  NaN    73086771   \n",
              "9328   NaN  NaN    38063967   \n",
              "9329   NaN  NaN  2018261000   \n",
              "9330   NaN  NaN    38063959   \n",
              "9331   NaN  NaN    38063935   \n",
              "\n",
              "                                                 detail      dmin  felt  \\\n",
              "0     https://earthquake.usgs.gov/fdsnws/event/1/que...  0.008693   NaN   \n",
              "1     https://earthquake.usgs.gov/fdsnws/event/1/que...  0.020030   NaN   \n",
              "2     https://earthquake.usgs.gov/fdsnws/event/1/que...  0.021370  28.0   \n",
              "3     https://earthquake.usgs.gov/fdsnws/event/1/que...  0.026180   NaN   \n",
              "4     https://earthquake.usgs.gov/fdsnws/event/1/que...  0.077990   NaN   \n",
              "...                                                 ...       ...   ...   \n",
              "9327  https://earthquake.usgs.gov/fdsnws/event/1/que...  0.018060   NaN   \n",
              "9328  https://earthquake.usgs.gov/fdsnws/event/1/que...  0.030410   NaN   \n",
              "9329  https://earthquake.usgs.gov/fdsnws/event/1/que...  0.452600   NaN   \n",
              "9330  https://earthquake.usgs.gov/fdsnws/event/1/que...  0.018650   NaN   \n",
              "9331  https://earthquake.usgs.gov/fdsnws/event/1/que...  0.016980   NaN   \n",
              "\n",
              "        gap             ids   mag magType  ...  sources     status  \\\n",
              "0      85.0    ,ci37389218,  1.35      ml  ...     ,ci,  automatic   \n",
              "1      79.0    ,ci37389202,  1.29      ml  ...     ,ci,  automatic   \n",
              "2      21.0    ,ci37389194,  3.42      ml  ...     ,ci,  automatic   \n",
              "3      39.0    ,ci37389186,  0.44      ml  ...     ,ci,  automatic   \n",
              "4     192.0    ,nc73096941,  2.16      md  ...     ,nc,  automatic   \n",
              "...     ...             ...   ...     ...  ...      ...        ...   \n",
              "9327  185.0    ,nc73086771,  0.62      md  ...     ,nc,   reviewed   \n",
              "9328   50.0    ,ci38063967,  1.00      ml  ...     ,ci,   reviewed   \n",
              "9329  276.0  ,pr2018261000,  2.40      md  ...     ,pr,   reviewed   \n",
              "9330   61.0    ,ci38063959,  1.10      ml  ...     ,ci,   reviewed   \n",
              "9331   39.0    ,ci38063935,  0.66      ml  ...     ,ci,   reviewed   \n",
              "\n",
              "               time                                     title  tsunami  \\\n",
              "0     1539475168010             M 1.4 - 9km NE of Aguanga, CA        0   \n",
              "1     1539475129610             M 1.3 - 9km NE of Aguanga, CA        0   \n",
              "2     1539475062610             M 3.4 - 8km NE of Aguanga, CA        0   \n",
              "3     1539474978070             M 0.4 - 9km NE of Aguanga, CA        0   \n",
              "4     1539474716050             M 2.2 - 10km NW of Avenal, CA        0   \n",
              "...             ...                                       ...      ...   \n",
              "9327  1537230228060      M 0.6 - 9km ENE of Mammoth Lakes, CA        0   \n",
              "9328  1537230135130               M 1.0 - 3km W of Julian, CA        0   \n",
              "9329  1537229908180  M 2.4 - 35km NNE of Hatillo, Puerto Rico        0   \n",
              "9330  1537229545350             M 1.1 - 9km NE of Aguanga, CA        0   \n",
              "9331  1537228864470             M 0.7 - 9km NE of Aguanga, CA        0   \n",
              "\n",
              "            type                                              types     tz  \\\n",
              "0     earthquake         ,geoserve,nearby-cities,origin,phase-data, -480.0   \n",
              "1     earthquake         ,geoserve,nearby-cities,origin,phase-data, -480.0   \n",
              "2     earthquake  ,dyfi,focal-mechanism,geoserve,nearby-cities,o... -480.0   \n",
              "3     earthquake         ,geoserve,nearby-cities,origin,phase-data, -480.0   \n",
              "4     earthquake  ,geoserve,nearby-cities,origin,phase-data,scit... -480.0   \n",
              "...          ...                                                ...    ...   \n",
              "9327  earthquake         ,geoserve,nearby-cities,origin,phase-data, -480.0   \n",
              "9328  earthquake  ,geoserve,nearby-cities,origin,phase-data,scit... -480.0   \n",
              "9329  earthquake                       ,geoserve,origin,phase-data, -240.0   \n",
              "9330  earthquake  ,focal-mechanism,geoserve,nearby-cities,origin... -480.0   \n",
              "9331  earthquake  ,focal-mechanism,geoserve,nearby-cities,origin... -480.0   \n",
              "\n",
              "            updated                                                url  \n",
              "0     1539475395144  https://earthquake.usgs.gov/earthquakes/eventp...  \n",
              "1     1539475253925  https://earthquake.usgs.gov/earthquakes/eventp...  \n",
              "2     1539536756176  https://earthquake.usgs.gov/earthquakes/eventp...  \n",
              "3     1539475196167  https://earthquake.usgs.gov/earthquakes/eventp...  \n",
              "4     1539477547926  https://earthquake.usgs.gov/earthquakes/eventp...  \n",
              "...             ...                                                ...  \n",
              "9327  1537285598315  https://earthquake.usgs.gov/earthquakes/eventp...  \n",
              "9328  1537276800970  https://earthquake.usgs.gov/earthquakes/eventp...  \n",
              "9329  1537243777410  https://earthquake.usgs.gov/earthquakes/eventp...  \n",
              "9330  1537230211640  https://earthquake.usgs.gov/earthquakes/eventp...  \n",
              "9331  1537305830770  https://earthquake.usgs.gov/earthquakes/eventp...  \n",
              "\n",
              "[9332 rows x 26 columns]"
            ]
          },
          "execution_count": 19,
          "metadata": {},
          "output_type": "execute_result"
        }
      ],
      "source": [
        "df"
      ]
    },
    {
      "cell_type": "markdown",
      "metadata": {
        "id": "aGvLS0MLb37g"
      },
      "source": [
        "Pandas odatda kirish ma'lumotlariga asoslanib qaysi parametrlarni ishlatishni yaxshi aniqlaydi, shuning uchun ko'pincha chaqiruvga argumentlarni qo'shishimiz kerak bo'lmaydi; ammo, ba'zi holatlarda kerak bo'lishi mumkin bo'lgan ko'plab variantlar mavjud, ulardan ba'zilari quyidagilar:\n",
        "\n",
        "| Parametr    | Maqsad |\n",
        "|-------------|--------|\n",
        "| `sep`       | Delimiterni aniqlaydi |\n",
        "| `header`    | Ustun nomlari joylashgan qator raqami; default holatda `pandas` ularning mavjudligini aniqlaydi |\n",
        "| `names`     | Foydalaniladigan ustun nomlari ro'yxati |\n",
        "| `index_col` | Indeks sifatida ishlatiladigan ustun |\n",
        "| `usecols`   | Qaysi ustunlarni o'qish kerakligini aniqlaydi |\n",
        "| `dtype`     | Ustunlar uchun ma'lumot turini aniqlaydi |\n",
        "| `converters`| Muayyan ustunlardagi ma'lumotlarni o'zgartirish uchun funksiyalarni belgilaydi |\n",
        "| `skiprows`  | O'tkazib yuboriladigan qatordagi sonlar |\n",
        "| `nrows`     | Bir vaqtning o'zida o'qiladigan qatorlar soni (file'ni bir necha bo'laklarga ajratish uchun `skiprows` bilan birga ishlating) |\n",
        "| `parse_dates` | Sanalarni o'z ichiga olgan ustunlarni avtomatik ravishda datetime obyektlariga aylantiradi |\n",
        "| `chunksize` | Faylni bo'laklarga ajratib o'qish uchun |\n",
        "| `compression` | Fayllarni oldindan chiqarib yuborishsiz siqilgan holatda o'qish |\n",
        "| `encoding`  | Faylning kodlashini belgilaydi |\n",
        "\n",
        "## `DataFrame` Ob'ektini CSV Fayliga Yozish\n",
        "`df`ning indekslari faqat qator raqamlari bo'lgani uchun, biz uni saqlamoqchi emasmiz. Shuning uchun, `to_csv()` metodiga `index=False` parametrini beramiz:\n"
      ]
    },
    {
      "cell_type": "code",
      "execution_count": null,
      "metadata": {
        "id": "KqW4uXcQb37h"
      },
      "outputs": [],
      "source": [
        "df.to_csv('output.csv', index=False)"
      ]
    },
    {
      "cell_type": "markdown",
      "metadata": {
        "id": "U3J-180Fb37h"
      },
      "source": [
        "## `DataFrame` ob'ektini ma'lumotlar bazasiga yozish\n",
        "E'tibor bering, `if_exists` parametri mavjud. Standart holda, agar mavjud jadvalga yozishga harakat qilsangiz, xato beradi. Bu yerda biz jadvalning ustiga yozilishiga ahamiyat bermaymiz.Agar yangi satrlarni qo'shishni xohlasak, uni `'append'` sifatida belgilaymiz.\n"
      ]
    },
    {
      "cell_type": "code",
      "execution_count": null,
      "metadata": {
        "id": "Fv917TyFb37h"
      },
      "outputs": [],
      "source": [
        "import sqlite3\n",
        "\n",
        "with sqlite3.connect('data/quakes.db') as connection:\n",
        "    pd.read_csv('data/tsunamis.csv').to_sql(\n",
        "        'tsunamis', connection, index=False, if_exists='replace'\n",
        "    )"
      ]
    },
    {
      "cell_type": "markdown",
      "metadata": {
        "id": "b1_u6ZOjb37i"
      },
      "source": [
        "## Ma'lumotlar bazasidan (DB) so'rov (query) qilish orqali `DataFrame` ob'ektini yaratish\n",
        "SQLite databasedan foydalanish. Alternativ sifatida [SQLAlchemy](https://www.sqlalchemy.org/)ni o'rnatib ishlatsak ham bo'ladi.\n"
      ]
    },
    {
      "cell_type": "code",
      "execution_count": null,
      "metadata": {
        "id": "BTl0Sviqb37i",
        "outputId": "78267277-28ea-4f2c-ccd9-2abe63ac80d5"
      },
      "outputs": [
        {
          "data": {
            "text/html": [
              "<div>\n",
              "<style scoped>\n",
              "    .dataframe tbody tr th:only-of-type {\n",
              "        vertical-align: middle;\n",
              "    }\n",
              "\n",
              "    .dataframe tbody tr th {\n",
              "        vertical-align: top;\n",
              "    }\n",
              "\n",
              "    .dataframe thead th {\n",
              "        text-align: right;\n",
              "    }\n",
              "</style>\n",
              "<table border=\"1\" class=\"dataframe\">\n",
              "  <thead>\n",
              "    <tr style=\"text-align: right;\">\n",
              "      <th></th>\n",
              "      <th>alert</th>\n",
              "      <th>type</th>\n",
              "      <th>title</th>\n",
              "      <th>place</th>\n",
              "      <th>magType</th>\n",
              "      <th>mag</th>\n",
              "      <th>time</th>\n",
              "    </tr>\n",
              "  </thead>\n",
              "  <tbody>\n",
              "    <tr>\n",
              "      <th>0</th>\n",
              "      <td>None</td>\n",
              "      <td>earthquake</td>\n",
              "      <td>M 5.0 - 165km NNW of Flying Fish Cove, Christm...</td>\n",
              "      <td>165km NNW of Flying Fish Cove, Christmas Island</td>\n",
              "      <td>mww</td>\n",
              "      <td>5.0</td>\n",
              "      <td>1539459504090</td>\n",
              "    </tr>\n",
              "    <tr>\n",
              "      <th>1</th>\n",
              "      <td>green</td>\n",
              "      <td>earthquake</td>\n",
              "      <td>M 6.7 - 262km NW of Ozernovskiy, Russia</td>\n",
              "      <td>262km NW of Ozernovskiy, Russia</td>\n",
              "      <td>mww</td>\n",
              "      <td>6.7</td>\n",
              "      <td>1539429023560</td>\n",
              "    </tr>\n",
              "    <tr>\n",
              "      <th>2</th>\n",
              "      <td>green</td>\n",
              "      <td>earthquake</td>\n",
              "      <td>M 5.6 - 128km SE of Kimbe, Papua New Guinea</td>\n",
              "      <td>128km SE of Kimbe, Papua New Guinea</td>\n",
              "      <td>mww</td>\n",
              "      <td>5.6</td>\n",
              "      <td>1539312723620</td>\n",
              "    </tr>\n",
              "    <tr>\n",
              "      <th>3</th>\n",
              "      <td>green</td>\n",
              "      <td>earthquake</td>\n",
              "      <td>M 6.5 - 148km S of Severo-Kuril'sk, Russia</td>\n",
              "      <td>148km S of Severo-Kuril'sk, Russia</td>\n",
              "      <td>mww</td>\n",
              "      <td>6.5</td>\n",
              "      <td>1539213362130</td>\n",
              "    </tr>\n",
              "    <tr>\n",
              "      <th>4</th>\n",
              "      <td>green</td>\n",
              "      <td>earthquake</td>\n",
              "      <td>M 6.2 - 94km SW of Kokopo, Papua New Guinea</td>\n",
              "      <td>94km SW of Kokopo, Papua New Guinea</td>\n",
              "      <td>mww</td>\n",
              "      <td>6.2</td>\n",
              "      <td>1539208835130</td>\n",
              "    </tr>\n",
              "  </tbody>\n",
              "</table>\n",
              "</div>"
            ],
            "text/plain": [
              "   alert        type                                              title  \\\n",
              "0   None  earthquake  M 5.0 - 165km NNW of Flying Fish Cove, Christm...   \n",
              "1  green  earthquake            M 6.7 - 262km NW of Ozernovskiy, Russia   \n",
              "2  green  earthquake        M 5.6 - 128km SE of Kimbe, Papua New Guinea   \n",
              "3  green  earthquake         M 6.5 - 148km S of Severo-Kuril'sk, Russia   \n",
              "4  green  earthquake        M 6.2 - 94km SW of Kokopo, Papua New Guinea   \n",
              "\n",
              "                                             place magType  mag           time  \n",
              "0  165km NNW of Flying Fish Cove, Christmas Island     mww  5.0  1539459504090  \n",
              "1                  262km NW of Ozernovskiy, Russia     mww  6.7  1539429023560  \n",
              "2              128km SE of Kimbe, Papua New Guinea     mww  5.6  1539312723620  \n",
              "3               148km S of Severo-Kuril'sk, Russia     mww  6.5  1539213362130  \n",
              "4              94km SW of Kokopo, Papua New Guinea     mww  6.2  1539208835130  "
            ]
          },
          "execution_count": 20,
          "metadata": {},
          "output_type": "execute_result"
        }
      ],
      "source": [
        "import sqlite3\n",
        "\n",
        "with sqlite3.connect('data/quakes.db') as connection:\n",
        "    tsunamis = pd.read_sql('SELECT * FROM tsunamis', connection)\n",
        "\n",
        "tsunamis.head()"
      ]
    },
    {
      "cell_type": "markdown",
      "metadata": {
        "id": "xvZ6RS4Ub37j"
      },
      "source": [
        "<hr>\n",
        "<div>\n",
        "    <a href=\"./1-pandas_data_structures.ipynb\">\n",
        "        <button style=\"float: left;\">&#8592; Previous Notebook</button>\n",
        "    </a>\n",
        "    <a href=\"./3-making_dataframes_from_api_requests.ipynb\">\n",
        "        <button style=\"float: right;\">Next Notebook &#8594;</button>\n",
        "    </a>\n",
        "</div>\n",
        "<br>\n",
        "<hr>"
      ]
    }
  ],
  "metadata": {
    "kernelspec": {
      "display_name": ".venv",
      "language": "python",
      "name": "python3"
    },
    "language_info": {
      "codemirror_mode": {
        "name": "ipython",
        "version": 3
      },
      "file_extension": ".py",
      "mimetype": "text/x-python",
      "name": "python",
      "nbconvert_exporter": "python",
      "pygments_lexer": "ipython3",
      "version": "3.8.5"
    },
    "colab": {
      "provenance": [],
      "include_colab_link": true
    }
  },
  "nbformat": 4,
  "nbformat_minor": 0
}