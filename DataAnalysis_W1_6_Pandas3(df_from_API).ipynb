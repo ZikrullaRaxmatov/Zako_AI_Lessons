{
  "cells": [
    {
      "cell_type": "markdown",
      "metadata": {
        "id": "view-in-github",
        "colab_type": "text"
      },
      "source": [
        "<a href=\"https://colab.research.google.com/github/ZikrullaRaxmatov/Zako_AI_Lessons/blob/main/DataAnalysis_W1_6_Pandas3(df_from_API).ipynb\" target=\"_parent\"><img src=\"https://colab.research.google.com/assets/colab-badge.svg\" alt=\"Open In Colab\"/></a>"
      ]
    },
    {
      "cell_type": "markdown",
      "metadata": {
        "id": "T2DSq59puE-w"
      },
      "source": [
        "# Zako-ai"
      ]
    },
    {
      "cell_type": "markdown",
      "metadata": {
        "id": "OjpnIDLzuE-0"
      },
      "source": [
        "# Pandas `DataFrame`larni API so'rovlari yordamida yaratish\n",
        "Ushbu misolda biz AQSh Geologiya Xizmatining API'sidan yer silkinishlari ma'lumotlari bo'lgan JSON ob'ektini olib, uni `pandas.DataFrame`ga aylantiramiz.\n",
        "\n",
        "USGS API: https://earthquake.usgs.gov/fdsnws/event/1/\n"
      ]
    },
    {
      "cell_type": "markdown",
      "metadata": {
        "id": "Gwhs4t-GuE-1"
      },
      "source": [
        "### Get Data from API"
      ]
    },
    {
      "cell_type": "code",
      "execution_count": null,
      "metadata": {
        "id": "BQ8f9tYeuE-2",
        "outputId": "fc6951a3-7252-4a3b-ac3b-e2812c9941a7"
      },
      "outputs": [
        {
          "data": {
            "text/plain": [
              "200"
            ]
          },
          "execution_count": 1,
          "metadata": {},
          "output_type": "execute_result"
        }
      ],
      "source": [
        "import datetime as dt\n",
        "import pandas as pd\n",
        "import requests\n",
        "\n",
        "yesterday = dt.date.today() - dt.timedelta(days=1)\n",
        "api = 'https://earthquake.usgs.gov/fdsnws/event/1/query'\n",
        "payload = {\n",
        "    'format': 'geojson',\n",
        "    'starttime': yesterday - dt.timedelta(days=30),\n",
        "    'endtime': yesterday\n",
        "}\n",
        "response = requests.get(api, params=payload)\n",
        "\n",
        "# let's make sure the request was OK\n",
        "response.status_code"
      ]
    },
    {
      "cell_type": "markdown",
      "metadata": {
        "id": "McxkMKV9uE-5"
      },
      "source": [
        "200 javobi OK degan ma'noni anglatadi, shuning uchun biz natijadan ma'lumotlarni olishimiz mumkin. API'dan JSON yuklamasini so'raganimiz uchun, biz uni `json()` metodidan foydalanib, javobdan ajratib olishimiz mumkin.\n",
        "\n",
        "### JSON Javobidan Ma'lumotni Ajratish\n",
        "Ma'lumotlarimiz qaerda joylashganini bilish uchun javob ma'lumotlarining strukturasini tekshirishimiz kerak.\n"
      ]
    },
    {
      "cell_type": "code",
      "execution_count": null,
      "metadata": {
        "id": "KMXDwZSOuE-5",
        "outputId": "0631baf6-4f2f-4db9-897d-1cd80d753bfa"
      },
      "outputs": [
        {
          "data": {
            "text/plain": [
              "dict_keys(['type', 'metadata', 'features', 'bbox'])"
            ]
          },
          "execution_count": 2,
          "metadata": {},
          "output_type": "execute_result"
        }
      ],
      "source": [
        "earthquake_json = response.json()\n",
        "earthquake_json.keys()"
      ]
    },
    {
      "cell_type": "markdown",
      "metadata": {
        "id": "PVMYO1qeuE-6"
      },
      "source": [
        "USGS API bizning so'rovimiz haqida ma'lumotni `metadata` kalitida taqdim etadi. E'tibor bering, natijangiz tanlangan sana oralig'idan qat'iy nazar boshqacha bo'ladi, chunki API ma'lumotlarni qachon olib kelganligini ko'rsatuvchi vaqt belgisini o'z ichiga oladi.\n"
      ]
    },
    {
      "cell_type": "code",
      "execution_count": null,
      "metadata": {
        "id": "t0embXbiuE-7",
        "outputId": "d86ab534-99b9-4508-e9d9-9cce760314c9"
      },
      "outputs": [
        {
          "data": {
            "text/plain": [
              "{'generated': 1604267813000,\n",
              " 'url': 'https://earthquake.usgs.gov/fdsnws/event/1/query?format=geojson&starttime=2020-10-01&endtime=2020-10-31',\n",
              " 'title': 'USGS Earthquakes',\n",
              " 'status': 200,\n",
              " 'api': '1.10.3',\n",
              " 'count': 13706}"
            ]
          },
          "execution_count": 3,
          "metadata": {},
          "output_type": "execute_result"
        }
      ],
      "source": [
        "earthquake_json['metadata']"
      ]
    },
    {
      "cell_type": "markdown",
      "metadata": {
        "id": "pzQttngeuE-7"
      },
      "source": [
        "JSON massivining har bir elementi `features` - bu bizning DataFrame uchun bir qator ma'lumotni tashkil etadi.\n"
      ]
    },
    {
      "cell_type": "code",
      "execution_count": null,
      "metadata": {
        "id": "21ROg82IuE-8",
        "outputId": "923ad0cf-03ee-4585-8069-3554e025147b"
      },
      "outputs": [
        {
          "data": {
            "text/plain": [
              "list"
            ]
          },
          "execution_count": 4,
          "metadata": {},
          "output_type": "execute_result"
        }
      ],
      "source": [
        "type(earthquake_json['features'])"
      ]
    },
    {
      "cell_type": "markdown",
      "metadata": {
        "id": "dbHuS92DuE-8"
      },
      "source": [
        "Ma'lumotlaringiz, bu kodni qachon ishga tushirganingizga qarab, farq qilishi mumkin.\n"
      ]
    },
    {
      "cell_type": "code",
      "execution_count": null,
      "metadata": {
        "id": "Cd_471O0uE-9",
        "outputId": "f3516d73-89ce-4b01-b73b-ef47d44eba35"
      },
      "outputs": [
        {
          "data": {
            "text/plain": [
              "{'type': 'Feature',\n",
              " 'properties': {'mag': 1,\n",
              "  'place': '50 km ENE of Susitna North, Alaska',\n",
              "  'time': 1604102395919,\n",
              "  'updated': 1604103325550,\n",
              "  'tz': None,\n",
              "  'url': 'https://earthquake.usgs.gov/earthquakes/eventpage/ak020dz5f85a',\n",
              "  'detail': 'https://earthquake.usgs.gov/fdsnws/event/1/query?eventid=ak020dz5f85a&format=geojson',\n",
              "  'felt': None,\n",
              "  'cdi': None,\n",
              "  'mmi': None,\n",
              "  'alert': None,\n",
              "  'status': 'reviewed',\n",
              "  'tsunami': 0,\n",
              "  'sig': 15,\n",
              "  'net': 'ak',\n",
              "  'code': '020dz5f85a',\n",
              "  'ids': ',ak020dz5f85a,',\n",
              "  'sources': ',ak,',\n",
              "  'types': ',origin,phase-data,',\n",
              "  'nst': None,\n",
              "  'dmin': None,\n",
              "  'rms': 1.36,\n",
              "  'gap': None,\n",
              "  'magType': 'ml',\n",
              "  'type': 'earthquake',\n",
              "  'title': 'M 1.0 - 50 km ENE of Susitna North, Alaska'},\n",
              " 'geometry': {'type': 'Point', 'coordinates': [-148.9807, 62.3533, 5]},\n",
              " 'id': 'ak020dz5f85a'}"
            ]
          },
          "execution_count": 5,
          "metadata": {},
          "output_type": "execute_result"
        }
      ],
      "source": [
        "earthquake_json['features'][0]"
      ]
    },
    {
      "cell_type": "markdown",
      "metadata": {
        "id": "6_wC8nfyuE-9"
      },
      "source": [
        "### DataFrame ga aylantirish\n",
        "Biz `features` JSON massividagi har bir kirishdan `properties` bo'limini olishimiz kerak, shunda `DataFrame` yaratishimiz mumkin.\n"
      ]
    },
    {
      "cell_type": "code",
      "execution_count": null,
      "metadata": {
        "id": "Kk0jsO1QuE--",
        "outputId": "672d466b-206b-46e7-f4c6-ffe06c2db207"
      },
      "outputs": [
        {
          "data": {
            "text/html": [
              "<div>\n",
              "<style scoped>\n",
              "    .dataframe tbody tr th:only-of-type {\n",
              "        vertical-align: middle;\n",
              "    }\n",
              "\n",
              "    .dataframe tbody tr th {\n",
              "        vertical-align: top;\n",
              "    }\n",
              "\n",
              "    .dataframe thead th {\n",
              "        text-align: right;\n",
              "    }\n",
              "</style>\n",
              "<table border=\"1\" class=\"dataframe\">\n",
              "  <thead>\n",
              "    <tr style=\"text-align: right;\">\n",
              "      <th></th>\n",
              "      <th>mag</th>\n",
              "      <th>place</th>\n",
              "      <th>time</th>\n",
              "      <th>updated</th>\n",
              "      <th>tz</th>\n",
              "      <th>url</th>\n",
              "      <th>detail</th>\n",
              "      <th>felt</th>\n",
              "      <th>cdi</th>\n",
              "      <th>mmi</th>\n",
              "      <th>...</th>\n",
              "      <th>ids</th>\n",
              "      <th>sources</th>\n",
              "      <th>types</th>\n",
              "      <th>nst</th>\n",
              "      <th>dmin</th>\n",
              "      <th>rms</th>\n",
              "      <th>gap</th>\n",
              "      <th>magType</th>\n",
              "      <th>type</th>\n",
              "      <th>title</th>\n",
              "    </tr>\n",
              "  </thead>\n",
              "  <tbody>\n",
              "    <tr>\n",
              "      <th>0</th>\n",
              "      <td>1.00</td>\n",
              "      <td>50 km ENE of Susitna North, Alaska</td>\n",
              "      <td>1604102395919</td>\n",
              "      <td>1604103325550</td>\n",
              "      <td>None</td>\n",
              "      <td>https://earthquake.usgs.gov/earthquakes/eventp...</td>\n",
              "      <td>https://earthquake.usgs.gov/fdsnws/event/1/que...</td>\n",
              "      <td>NaN</td>\n",
              "      <td>NaN</td>\n",
              "      <td>NaN</td>\n",
              "      <td>...</td>\n",
              "      <td>,ak020dz5f85a,</td>\n",
              "      <td>,ak,</td>\n",
              "      <td>,origin,phase-data,</td>\n",
              "      <td>NaN</td>\n",
              "      <td>NaN</td>\n",
              "      <td>1.36</td>\n",
              "      <td>NaN</td>\n",
              "      <td>ml</td>\n",
              "      <td>earthquake</td>\n",
              "      <td>M 1.0 - 50 km ENE of Susitna North, Alaska</td>\n",
              "    </tr>\n",
              "    <tr>\n",
              "      <th>1</th>\n",
              "      <td>0.64</td>\n",
              "      <td>15km NNE of Warner Springs, CA</td>\n",
              "      <td>1604102330860</td>\n",
              "      <td>1604114890185</td>\n",
              "      <td>None</td>\n",
              "      <td>https://earthquake.usgs.gov/earthquakes/eventp...</td>\n",
              "      <td>https://earthquake.usgs.gov/fdsnws/event/1/que...</td>\n",
              "      <td>NaN</td>\n",
              "      <td>NaN</td>\n",
              "      <td>NaN</td>\n",
              "      <td>...</td>\n",
              "      <td>,ci39451271,</td>\n",
              "      <td>,ci,</td>\n",
              "      <td>,nearby-cities,origin,phase-data,scitech-link,</td>\n",
              "      <td>23.0</td>\n",
              "      <td>0.06759</td>\n",
              "      <td>0.16</td>\n",
              "      <td>123.0</td>\n",
              "      <td>ml</td>\n",
              "      <td>earthquake</td>\n",
              "      <td>M 0.6 - 15km NNE of Warner Springs, CA</td>\n",
              "    </tr>\n",
              "    <tr>\n",
              "      <th>2</th>\n",
              "      <td>1.09</td>\n",
              "      <td>15km NNE of Warner Springs, CA</td>\n",
              "      <td>1604102075440</td>\n",
              "      <td>1604102309453</td>\n",
              "      <td>None</td>\n",
              "      <td>https://earthquake.usgs.gov/earthquakes/eventp...</td>\n",
              "      <td>https://earthquake.usgs.gov/fdsnws/event/1/que...</td>\n",
              "      <td>NaN</td>\n",
              "      <td>NaN</td>\n",
              "      <td>NaN</td>\n",
              "      <td>...</td>\n",
              "      <td>,ci39451255,</td>\n",
              "      <td>,ci,</td>\n",
              "      <td>,nearby-cities,origin,phase-data,scitech-link,</td>\n",
              "      <td>39.0</td>\n",
              "      <td>0.06308</td>\n",
              "      <td>0.22</td>\n",
              "      <td>91.0</td>\n",
              "      <td>ml</td>\n",
              "      <td>earthquake</td>\n",
              "      <td>M 1.1 - 15km NNE of Warner Springs, CA</td>\n",
              "    </tr>\n",
              "    <tr>\n",
              "      <th>3</th>\n",
              "      <td>0.34</td>\n",
              "      <td>15km NNE of Warner Springs, CA</td>\n",
              "      <td>1604101989680</td>\n",
              "      <td>1604102996061</td>\n",
              "      <td>None</td>\n",
              "      <td>https://earthquake.usgs.gov/earthquakes/eventp...</td>\n",
              "      <td>https://earthquake.usgs.gov/fdsnws/event/1/que...</td>\n",
              "      <td>NaN</td>\n",
              "      <td>NaN</td>\n",
              "      <td>NaN</td>\n",
              "      <td>...</td>\n",
              "      <td>,ci39451263,</td>\n",
              "      <td>,ci,</td>\n",
              "      <td>,nearby-cities,origin,phase-data,scitech-link,</td>\n",
              "      <td>15.0</td>\n",
              "      <td>0.06228</td>\n",
              "      <td>0.15</td>\n",
              "      <td>129.0</td>\n",
              "      <td>ml</td>\n",
              "      <td>earthquake</td>\n",
              "      <td>M 0.3 - 15km NNE of Warner Springs, CA</td>\n",
              "    </tr>\n",
              "    <tr>\n",
              "      <th>4</th>\n",
              "      <td>0.59</td>\n",
              "      <td>13km NE of Indio, CA</td>\n",
              "      <td>1604101849950</td>\n",
              "      <td>1604102079270</td>\n",
              "      <td>None</td>\n",
              "      <td>https://earthquake.usgs.gov/earthquakes/eventp...</td>\n",
              "      <td>https://earthquake.usgs.gov/fdsnws/event/1/que...</td>\n",
              "      <td>NaN</td>\n",
              "      <td>NaN</td>\n",
              "      <td>NaN</td>\n",
              "      <td>...</td>\n",
              "      <td>,ci39451231,</td>\n",
              "      <td>,ci,</td>\n",
              "      <td>,nearby-cities,origin,phase-data,scitech-link,</td>\n",
              "      <td>17.0</td>\n",
              "      <td>0.09717</td>\n",
              "      <td>0.19</td>\n",
              "      <td>98.0</td>\n",
              "      <td>ml</td>\n",
              "      <td>earthquake</td>\n",
              "      <td>M 0.6 - 13km NE of Indio, CA</td>\n",
              "    </tr>\n",
              "  </tbody>\n",
              "</table>\n",
              "<p>5 rows × 26 columns</p>\n",
              "</div>"
            ],
            "text/plain": [
              "    mag                               place           time        updated  \\\n",
              "0  1.00  50 km ENE of Susitna North, Alaska  1604102395919  1604103325550   \n",
              "1  0.64      15km NNE of Warner Springs, CA  1604102330860  1604114890185   \n",
              "2  1.09      15km NNE of Warner Springs, CA  1604102075440  1604102309453   \n",
              "3  0.34      15km NNE of Warner Springs, CA  1604101989680  1604102996061   \n",
              "4  0.59                13km NE of Indio, CA  1604101849950  1604102079270   \n",
              "\n",
              "     tz                                                url  \\\n",
              "0  None  https://earthquake.usgs.gov/earthquakes/eventp...   \n",
              "1  None  https://earthquake.usgs.gov/earthquakes/eventp...   \n",
              "2  None  https://earthquake.usgs.gov/earthquakes/eventp...   \n",
              "3  None  https://earthquake.usgs.gov/earthquakes/eventp...   \n",
              "4  None  https://earthquake.usgs.gov/earthquakes/eventp...   \n",
              "\n",
              "                                              detail  felt  cdi  mmi  ...  \\\n",
              "0  https://earthquake.usgs.gov/fdsnws/event/1/que...   NaN  NaN  NaN  ...   \n",
              "1  https://earthquake.usgs.gov/fdsnws/event/1/que...   NaN  NaN  NaN  ...   \n",
              "2  https://earthquake.usgs.gov/fdsnws/event/1/que...   NaN  NaN  NaN  ...   \n",
              "3  https://earthquake.usgs.gov/fdsnws/event/1/que...   NaN  NaN  NaN  ...   \n",
              "4  https://earthquake.usgs.gov/fdsnws/event/1/que...   NaN  NaN  NaN  ...   \n",
              "\n",
              "              ids sources                                           types  \\\n",
              "0  ,ak020dz5f85a,    ,ak,                             ,origin,phase-data,   \n",
              "1    ,ci39451271,    ,ci,  ,nearby-cities,origin,phase-data,scitech-link,   \n",
              "2    ,ci39451255,    ,ci,  ,nearby-cities,origin,phase-data,scitech-link,   \n",
              "3    ,ci39451263,    ,ci,  ,nearby-cities,origin,phase-data,scitech-link,   \n",
              "4    ,ci39451231,    ,ci,  ,nearby-cities,origin,phase-data,scitech-link,   \n",
              "\n",
              "    nst     dmin   rms    gap magType        type  \\\n",
              "0   NaN      NaN  1.36    NaN      ml  earthquake   \n",
              "1  23.0  0.06759  0.16  123.0      ml  earthquake   \n",
              "2  39.0  0.06308  0.22   91.0      ml  earthquake   \n",
              "3  15.0  0.06228  0.15  129.0      ml  earthquake   \n",
              "4  17.0  0.09717  0.19   98.0      ml  earthquake   \n",
              "\n",
              "                                        title  \n",
              "0  M 1.0 - 50 km ENE of Susitna North, Alaska  \n",
              "1      M 0.6 - 15km NNE of Warner Springs, CA  \n",
              "2      M 1.1 - 15km NNE of Warner Springs, CA  \n",
              "3      M 0.3 - 15km NNE of Warner Springs, CA  \n",
              "4                M 0.6 - 13km NE of Indio, CA  \n",
              "\n",
              "[5 rows x 26 columns]"
            ]
          },
          "execution_count": 6,
          "metadata": {},
          "output_type": "execute_result"
        }
      ],
      "source": [
        "earthquake_properties_data = [\n",
        "    quake['properties'] for quake in earthquake_json['features']\n",
        "]\n",
        "df = pd.DataFrame(earthquake_properties_data)\n",
        "df.head()"
      ]
    },
    {
      "cell_type": "markdown",
      "metadata": {
        "id": "Nyh-pVKvuE--"
      },
      "source": [
        "### (Ixtiyoriy) CSV faylga yozib qo'yish"
      ]
    },
    {
      "cell_type": "code",
      "execution_count": null,
      "metadata": {
        "id": "DLrLK6QHuE-_"
      },
      "outputs": [],
      "source": [
        "df.to_csv('earthquakes.csv', index=False)"
      ]
    },
    {
      "cell_type": "markdown",
      "metadata": {
        "id": "be0CKelbuE-_"
      },
      "source": [
        "<hr>\n",
        "<div>\n",
        "    <a href=\"./2-creating_dataframes.ipynb\">\n",
        "        <button style=\"float: left;\">&#8592; Previous Notebook</button>\n",
        "    </a>\n",
        "    <a href=\"./4-inspecting_dataframes.ipynb\">\n",
        "        <button style=\"float: right;\">Next Notebook &#8594;</button>\n",
        "    </a>\n",
        "</div>\n",
        "<br>\n",
        "<hr>"
      ]
    }
  ],
  "metadata": {
    "kernelspec": {
      "display_name": "Python 3",
      "language": "python",
      "name": "python3"
    },
    "language_info": {
      "codemirror_mode": {
        "name": "ipython",
        "version": 3
      },
      "file_extension": ".py",
      "mimetype": "text/x-python",
      "name": "python",
      "nbconvert_exporter": "python",
      "pygments_lexer": "ipython3",
      "version": "3.7.3"
    },
    "colab": {
      "provenance": [],
      "include_colab_link": true
    }
  },
  "nbformat": 4,
  "nbformat_minor": 0
}