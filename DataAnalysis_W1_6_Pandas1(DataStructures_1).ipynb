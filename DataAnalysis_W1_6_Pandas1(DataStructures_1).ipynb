{
  "cells": [
    {
      "cell_type": "markdown",
      "metadata": {
        "id": "view-in-github",
        "colab_type": "text"
      },
      "source": [
        "<a href=\"https://colab.research.google.com/github/ZikrullaRaxmatov/Zako_AI_Lessons/blob/main/DataAnalysis_W1_6_Pandas(DataStructures_1).ipynb\" target=\"_parent\"><img src=\"https://colab.research.google.com/assets/colab-badge.svg\" alt=\"Open In Colab\"/></a>"
      ]
    },
    {
      "cell_type": "markdown",
      "source": [
        "# Zako-ai"
      ],
      "metadata": {
        "id": "5O7nO4KdELpt"
      }
    },
    {
      "cell_type": "markdown",
      "metadata": {
        "id": "xdl10L7KBrkZ"
      },
      "source": [
        "# Pandas Ma'lumot Strukturalari Umumiy Ko'rinishi  \n",
        "Ushbu bo'limda biz `Series`, `Index` va `DataFrame` klasslari haqida gaplashamiz. Buni amalga oshirish uchun keyinchalik ishlatadigan CSV faylidan bir bo'lagini o'qib olamiz.\n",
        "## Ma'lumotlar haqida  \n",
        "Ushbu daftarda biz 2018-yil 18-sentabrdan 13-oktabrgacha bo'lgan zilzilalar ma'lumotlaridan 5 ta qatordan foydalanamiz (AQSh Geologiya Xizmatining [USGS API](https://earthquake.usgs.gov/fdsnws/event/1/) orqali olingan).\n",
        "\n",
        "## NumPy Arrays bilan Ishlash  \n",
        "Keling, ba'zi namunaviy ma'lumotlar uchun qisqa CSV faylini o'qiymiz (buning uchun `numpy`ni ishlatamiz).  \n"
      ]
    },
    {
      "cell_type": "code",
      "execution_count": null,
      "metadata": {
        "id": "qu6NA66RBrkb",
        "outputId": "c6db6fa3-4ae9-45c7-a574-1e437220366b"
      },
      "outputs": [
        {
          "data": {
            "text/plain": [
              "array([('2018-10-13 11:10:23.560', '262km NW of Ozernovskiy, Russia', 'mww', 6.7, 'green', 1),\n",
              "       ('2018-10-13 04:34:15.580', '25km E of Bitung, Indonesia', 'mww', 5.2, 'green', 0),\n",
              "       ('2018-10-13 00:13:46.220', '42km WNW of Sola, Vanuatu', 'mww', 5.7, 'green', 0),\n",
              "       ('2018-10-12 21:09:49.240', '13km E of Nueva Concepcion, Guatemala', 'mww', 5.7, 'green', 0),\n",
              "       ('2018-10-12 02:52:03.620', '128km SE of Kimbe, Papua New Guinea', 'mww', 5.6, 'green', 1)],\n",
              "      dtype=[('time', '<U23'), ('place', '<U37'), ('magType', '<U3'), ('mag', '<f8'), ('alert', '<U5'), ('tsunami', '<i4')])"
            ]
          },
          "execution_count": 2,
          "metadata": {},
          "output_type": "execute_result"
        }
      ],
      "source": [
        "import numpy as np\n",
        "\n",
        "data = np.genfromtxt(\n",
        "    '../data/example_data.csv', delimiter=';',\n",
        "    names=True, dtype=None, encoding='UTF'\n",
        ")\n",
        "data"
      ]
    },
    {
      "cell_type": "markdown",
      "metadata": {
        "id": "Nn_hDg-nBrke"
      },
      "source": [
        "ma'lumotlar shaklini `shape` orqali ifodalash"
      ]
    },
    {
      "cell_type": "code",
      "execution_count": null,
      "metadata": {
        "id": "9Tl4BHIfBrkf",
        "outputId": "4e3e13d6-1f2f-46a8-8372-1e7cfb7923d3"
      },
      "outputs": [
        {
          "data": {
            "text/plain": [
              "(5,)"
            ]
          },
          "execution_count": 3,
          "metadata": {},
          "output_type": "execute_result"
        }
      ],
      "source": [
        "data.shape"
      ]
    },
    {
      "cell_type": "markdown",
      "metadata": {
        "id": "aH0HK-ohBrkg"
      },
      "source": [
        "ma'lumot turini `dtype` orqali ifodalash"
      ]
    },
    {
      "cell_type": "code",
      "execution_count": null,
      "metadata": {
        "id": "5Y4NO455Brkg",
        "outputId": "86272c86-5e21-42bb-c3ad-5d3c5b812afa"
      },
      "outputs": [
        {
          "data": {
            "text/plain": [
              "dtype([('time', '<U23'), ('place', '<U37'), ('magType', '<U3'), ('mag', '<f8'), ('alert', '<U5'), ('tsunami', '<i4')])"
            ]
          },
          "execution_count": 4,
          "metadata": {},
          "output_type": "execute_result"
        }
      ],
      "source": [
        "data.dtype"
      ]
    },
    {
      "cell_type": "markdown",
      "metadata": {
        "id": "o0zLK3XdBrkh"
      },
      "source": [
        "Har bir kirish massivdagi qator CSV faylidan olingan. NumPy massivlari bitta ma'lumot turini o'z ichiga oladi (ro'yxatlar esa aralash turlarni qo'llab-quvvatlaydi); bu tezkor, vektorlashtirilgan operatsiyalarni bajarishga imkon beradi. Ma'lumotlarni o'qiganimizda, biz `numpy.void` obyektlaridan tashkil topgan massivni oldik, bu obyektlar moslashuvchan turlarni saqlash uchun yaratilgan. Buning sababi shundaki, NumPy har bir qator uchun bir nechta turli ma'lumot turlarini saqlashi kerak: to'rtta satr, biron-bir suzuvchi nuqta va bir butun son. Bu esa bitta ma'lumot turidagi obyektlar uchun NumPy taqdim etadigan ishlash samaradorligini foydalana olishimizga to'sqinlik qiladi.\n",
        "\n",
        "Agar biz maksimal magnitudani topmoqchi bo'lsak, har bir qatorning uchinchi indeksini tanlash uchun **[list comprehension](https://www.python.org/dev/peps/pep-0202/)** dan foydalanishimiz mumkin, bu esa `numpy.void` obyektini bildiradi. Bu ro'yxatni yaratadi, demak biz `max()` funksiyasini ishlatib maksimal qiymatni topishimiz mumkin:\n"
      ]
    },
    {
      "cell_type": "code",
      "execution_count": null,
      "metadata": {
        "id": "aDv8fYxABrki",
        "outputId": "84ef5cc5-dc11-4c29-85d5-048ec0fef0bd"
      },
      "outputs": [
        {
          "name": "stdout",
          "output_type": "stream",
          "text": [
            "2.77 µs ± 145 ns per loop (mean ± std. dev. of 7 runs, 100,000 loops each)\n"
          ]
        }
      ],
      "source": [
        "%%timeit\n",
        "max([row[3] for row in data])"
      ]
    },
    {
      "cell_type": "markdown",
      "metadata": {
        "id": "qvaIoteVBrkj"
      },
      "source": [
        "Agar biz, o'rniga, har bir ustun uchun NumPy massivini yaratadigan bo'lsak, bu operatsiyani bajarish ancha oson (va samaraliroq) bo'ladi. Biz **[dictionary comprehension](https://www.python.org/dev/peps/pep-0274/)** yordamida ustun nomlari kalit bo'lib, ma'lumotlarning NumPy massivlari qiymat bo'lgan lug'at yaratishimiz mumkin:\n"
      ]
    },
    {
      "cell_type": "code",
      "execution_count": null,
      "metadata": {
        "id": "ng9c-ug2Brkk",
        "outputId": "c13373b4-a347-463f-abf5-1242a9dbb280"
      },
      "outputs": [
        {
          "data": {
            "text/plain": [
              "{'time': array(['2018-10-13 11:10:23.560', '2018-10-13 04:34:15.580',\n",
              "        '2018-10-13 00:13:46.220', '2018-10-12 21:09:49.240',\n",
              "        '2018-10-12 02:52:03.620'], dtype='<U23'),\n",
              " 'place': array(['262km NW of Ozernovskiy, Russia', '25km E of Bitung, Indonesia',\n",
              "        '42km WNW of Sola, Vanuatu',\n",
              "        '13km E of Nueva Concepcion, Guatemala',\n",
              "        '128km SE of Kimbe, Papua New Guinea'], dtype='<U37'),\n",
              " 'magType': array(['mww', 'mww', 'mww', 'mww', 'mww'], dtype='<U3'),\n",
              " 'mag': array([6.7, 5.2, 5.7, 5.7, 5.6]),\n",
              " 'alert': array(['green', 'green', 'green', 'green', 'green'], dtype='<U5'),\n",
              " 'tsunami': array([1, 0, 0, 0, 1])}"
            ]
          },
          "execution_count": 5,
          "metadata": {},
          "output_type": "execute_result"
        }
      ],
      "source": [
        "array_dict = {\n",
        "    col: np.array([row[i] for row in data])\n",
        "    for i, col in enumerate(data.dtype.names)\n",
        "}\n",
        "array_dict"
      ]
    },
    {
      "cell_type": "markdown",
      "metadata": {
        "id": "huXO13KvBrkk"
      },
      "source": [
        "Endi maksimal magnitudani olish faqatgina `mag` kalitini tanlash va `max()` metodini chaqirishdan iborat. Bu faqat 5 ta kiritish bilan ishlaganda list comprehension implementatsiyasidan deyarli ikki baravar tezroq ishlaydi, katta ma'lumotlar to'plamlari bilan ishlaganda birinchi urinish qanchalik yomon ishlashini tasavvur qiling:\n"
      ]
    },
    {
      "cell_type": "code",
      "execution_count": null,
      "metadata": {
        "id": "-o2IVXxxBrkl",
        "outputId": "90d6e0cd-5edd-4d50-f406-cf9365f82a35"
      },
      "outputs": [
        {
          "name": "stdout",
          "output_type": "stream",
          "text": [
            "3.18 µs ± 1.74 µs per loop (mean ± std. dev. of 7 runs, 100,000 loops each)\n"
          ]
        }
      ],
      "source": [
        "%%timeit\n",
        "array_dict['mag'].max()"
      ]
    },
    {
      "cell_type": "markdown",
      "metadata": {
        "id": "G7_h2VL7Brkl"
      },
      "source": [
        "Biroq, bu tasvirlashda boshqa muammolar mavjud. Agar biz maksimal magnitudaga ega bo'lgan zilzila haqida barcha ma'lumotlarni olishni xohlasak, qanday qilib buni amalga oshirishimiz mumkin? Biz maksimal qiymatning indeksini topishimiz va keyin lug'atdagi har bir kalit uchun o'sha indeksni olishimiz kerak bo'ladi:\n"
      ]
    },
    {
      "cell_type": "code",
      "execution_count": null,
      "metadata": {
        "id": "91ay2VwrBrkl",
        "outputId": "70f9573b-c703-4107-ce18-cc983cc08256"
      },
      "outputs": [
        {
          "data": {
            "text/plain": [
              "array(['2018-10-13 11:10:23.560', '262km NW of Ozernovskiy, Russia',\n",
              "       'mww', '6.7', 'green', '1'], dtype='<U32')"
            ]
          },
          "execution_count": 7,
          "metadata": {},
          "output_type": "execute_result"
        }
      ],
      "source": [
        "np.array([\n",
        "    value[array_dict['mag'].argmax()]\n",
        "    for key, value in array_dict.items()\n",
        "])"
      ]
    },
    {
      "cell_type": "markdown",
      "metadata": {
        "id": "z_jbf1V_Brkm"
      },
      "source": [
        "Natija: berilgan indeks bo'yicha qaytarilgan NumPy massividir. Qisqa qilib aytganda ma'lumotlar turlari aralashib kelganda numpy ham biroz oqsoqlanib qoladi va qo'shimcha amallarni bajarishni taqazo etadi. Bu esa ortiqcha resurs degani. Shuning uchun ham Pandasdan foydalanish tavsiya etiladi.\n",
        "\n",
        "## `Series`\n",
        "`Series` klassi bitta turdagi massivlar uchun ma'lumot strukturasini va ba'zi qo'shimcha funksionallikni taqdim etadi.\n"
      ]
    },
    {
      "cell_type": "code",
      "execution_count": null,
      "metadata": {
        "id": "rbanN6KuBrkn",
        "outputId": "37a5542d-9cdf-4949-d85f-88e9a2dd5243"
      },
      "outputs": [
        {
          "data": {
            "text/plain": [
              "0          262km NW of Ozernovskiy, Russia\n",
              "1              25km E of Bitung, Indonesia\n",
              "2                42km WNW of Sola, Vanuatu\n",
              "3    13km E of Nueva Concepcion, Guatemala\n",
              "4      128km SE of Kimbe, Papua New Guinea\n",
              "Name: place, dtype: object"
            ]
          },
          "execution_count": 8,
          "metadata": {},
          "output_type": "execute_result"
        }
      ],
      "source": [
        "import pandas as pd\n",
        "\n",
        "place = pd.Series(array_dict['place'], name='place')\n",
        "place"
      ]
    },
    {
      "cell_type": "markdown",
      "metadata": {
        "id": "SlFUvDUrBrkn"
      },
      "source": [
        "Quyida `Series` obyektlari bilan keng foydalaniladigan atributlar keltirilgan:\n",
        "\n",
        "|Atribut | Qaytaradi |\n",
        "| --- | --- |\n",
        "| `name` | `Series` obyektining nomi |\n",
        "| `dtype` | `Series` obyektining ma'lumot turi |\n",
        "| `shape` | `Series` obyektining o'lchamlari `(qatorlar soni,)` shaklida |\n",
        "| `index` | `Series` obyektining tarkibidagi `Index` obyekti |\n",
        "| `values` | `Series` obyektidagi ma'lumotlar |\n",
        "\n",
        "Asosan, `pandas` obyektlari ichki ma'lumot tasvirlanishini ta'minlash uchun NumPy massivlaridan foydalanadi. Biroq, ba'zi ma'lumot turlari uchun, `pandas` NumPy ustida qurilib, o'zining [massivlarini](https://pandas.pydata.org/pandas-docs/stable/reference/arrays.html) yaratadi. Shuning uchun, ma'lumot turiga qarab, `values` yoki `pandas.array`, yoki `numpy.array` obyektini qaytarishi mumkin.\n"
      ]
    },
    {
      "cell_type": "code",
      "execution_count": null,
      "metadata": {
        "id": "E_UGyEP-Brko",
        "outputId": "5e0d7648-cf98-400c-be70-bdce19e34c0d"
      },
      "outputs": [
        {
          "data": {
            "text/plain": [
              "'place'"
            ]
          },
          "execution_count": 9,
          "metadata": {},
          "output_type": "execute_result"
        }
      ],
      "source": [
        "place.name"
      ]
    },
    {
      "cell_type": "markdown",
      "metadata": {
        "id": "f-aVE1Z2Brko"
      },
      "source": [
        "### Getting the data type\n",
        "A `Series` object holds a single data type. Here it is `'O'` for object."
      ]
    },
    {
      "cell_type": "code",
      "execution_count": null,
      "metadata": {
        "id": "PkhFxzdLBrkp",
        "outputId": "cb8f49fb-3fa7-42e0-ad78-1a9fa45dc30a"
      },
      "outputs": [
        {
          "data": {
            "text/plain": [
              "dtype('O')"
            ]
          },
          "execution_count": 10,
          "metadata": {},
          "output_type": "execute_result"
        }
      ],
      "source": [
        "place.dtype"
      ]
    },
    {
      "cell_type": "markdown",
      "metadata": {
        "id": "ML515KD0Brkq"
      },
      "source": [
        "### Ma'lumot turini olish\n",
        "`Series` obyekti bitta ma'lumot turini saqlaydi. Bu yerda u `'O'` - obyekt turi.\n"
      ]
    },
    {
      "cell_type": "code",
      "execution_count": null,
      "metadata": {
        "id": "qs7hOPtkBrkq",
        "outputId": "3babd316-e01a-442d-ed85-c706c4d32395"
      },
      "outputs": [
        {
          "data": {
            "text/plain": [
              "(5,)"
            ]
          },
          "execution_count": 11,
          "metadata": {},
          "output_type": "execute_result"
        }
      ],
      "source": [
        "place.shape"
      ]
    },
    {
      "cell_type": "markdown",
      "metadata": {
        "id": "Bqa4qpzyBrkq"
      },
      "source": [
        "### Series qiymatlarini ajratish\n",
        "Ushbu `Series` obyekti qiymatlarini NumPy massiv sifatida saqlamoqda:\n"
      ]
    },
    {
      "cell_type": "code",
      "execution_count": null,
      "metadata": {
        "id": "_O9P-qF2Brkr",
        "outputId": "bcd27a4a-6df2-46de-cb5e-946d46a31c98"
      },
      "outputs": [
        {
          "data": {
            "text/plain": [
              "array(['262km NW of Ozernovskiy, Russia', '25km E of Bitung, Indonesia',\n",
              "       '42km WNW of Sola, Vanuatu',\n",
              "       '13km E of Nueva Concepcion, Guatemala',\n",
              "       '128km SE of Kimbe, Papua New Guinea'], dtype=object)"
            ]
          },
          "execution_count": 12,
          "metadata": {},
          "output_type": "execute_result"
        }
      ],
      "source": [
        "place.values"
      ]
    },
    {
      "cell_type": "markdown",
      "metadata": {
        "id": "CBUNigQUBrkr"
      },
      "source": [
        "## `Index`\n",
        "`Index` klassining qo'shilishi `Series` klassini NumPy massividan ko'ra kuchliroq qiladi. Biz `Series` obyektining `index` atributidan indeksni olishimiz mumkin:\n"
      ]
    },
    {
      "cell_type": "code",
      "execution_count": null,
      "metadata": {
        "id": "BG3q2mcMBrkr",
        "outputId": "d5108d5a-d9ef-4c6e-f732-cc764068b9be"
      },
      "outputs": [
        {
          "data": {
            "text/plain": [
              "RangeIndex(start=0, stop=5, step=1)"
            ]
          },
          "execution_count": 13,
          "metadata": {},
          "output_type": "execute_result"
        }
      ],
      "source": [
        "place_index = place.index\n",
        "place_index"
      ]
    },
    {
      "cell_type": "markdown",
      "metadata": {
        "id": "KeudVIZTBrks"
      },
      "source": [
        "`Series` obyektlari bilan bir xil tarzda, biz asosiy ma'lumotlarga `values` atributi orqali kirishimiz mumkin. E'tibor bering, ushbu `Index` obyekti ham NumPy massivining ustiga qurilgan:\n"
      ]
    },
    {
      "cell_type": "code",
      "execution_count": null,
      "metadata": {
        "id": "wqcsQB6KBrks",
        "outputId": "7add6413-0c6f-465a-e50b-b1b8fe517a7b"
      },
      "outputs": [
        {
          "data": {
            "text/plain": [
              "array([0, 1, 2, 3, 4], dtype=int64)"
            ]
          },
          "execution_count": 14,
          "metadata": {},
          "output_type": "execute_result"
        }
      ],
      "source": [
        "place_index.values"
      ]
    },
    {
      "cell_type": "markdown",
      "metadata": {
        "id": "PfE-PIfCBrkt"
      },
      "source": [
        "Quyida `Index` obyektlari bilan keng tarqalgan foydalaniladigan atributlar keltirilgan:\n",
        "\n",
        "|Atribut | Qaytaradi |\n",
        "| --- | --- |\n",
        "| `name` | `Index` obyektining nomi |\n",
        "| `dtype` | `Index` obyektining ma'lumot turi |\n",
        "| `shape` | `Index` obyektining o'lchamlari |\n",
        "| `values` | `Index` obyektidagi ma'lumotlar |\n",
        "| `is_unique` | `Index` obyektining barcha qiymatlari unikalligi tekshiriladi |\n"
      ]
    },
    {
      "cell_type": "code",
      "execution_count": null,
      "metadata": {
        "id": "WwrPxbAaBrkt",
        "outputId": "3a1e2d10-126f-4bfe-b793-a297e38f3250"
      },
      "outputs": [
        {
          "data": {
            "text/plain": [
              "dtype('int64')"
            ]
          },
          "execution_count": 15,
          "metadata": {},
          "output_type": "execute_result"
        }
      ],
      "source": [
        "place_index.dtype"
      ]
    },
    {
      "cell_type": "markdown",
      "metadata": {
        "id": "oAMLCmopBrkt"
      },
      "source": [
        "O'lchamini quyidagicha ko'rish mumkin"
      ]
    },
    {
      "cell_type": "code",
      "execution_count": null,
      "metadata": {
        "id": "38_VjdhRBrku",
        "outputId": "364849ee-13d7-4bef-fbb4-7195bc42372e"
      },
      "outputs": [
        {
          "data": {
            "text/plain": [
              "(5,)"
            ]
          },
          "execution_count": 16,
          "metadata": {},
          "output_type": "execute_result"
        }
      ],
      "source": [
        "place_index.shape"
      ]
    },
    {
      "cell_type": "markdown",
      "metadata": {
        "id": "utG-2j8VBrku"
      },
      "source": [
        "Takrorlanmas (unique) qiymatga tekshirish"
      ]
    },
    {
      "cell_type": "code",
      "execution_count": null,
      "metadata": {
        "id": "X8NovLZEBrkv",
        "outputId": "5c8c0141-6174-4744-cda1-3e0eeeca66d0"
      },
      "outputs": [
        {
          "data": {
            "text/plain": [
              "True"
            ]
          },
          "execution_count": 17,
          "metadata": {},
          "output_type": "execute_result"
        }
      ],
      "source": [
        "place_index.is_unique"
      ]
    },
    {
      "cell_type": "markdown",
      "metadata": {
        "id": "rvjW_z2fBrkv"
      },
      "source": [
        "NumPy bilan biz massivlar orasida elementlarga asoslangan arifmetik amallarni bajarishimiz mumkin:\n"
      ]
    },
    {
      "cell_type": "code",
      "execution_count": null,
      "metadata": {
        "id": "MFXy33mzBrkw",
        "outputId": "c927030f-1098-431d-96ad-136b3bd18e58"
      },
      "outputs": [
        {
          "data": {
            "text/plain": [
              "array([0, 1, 2])"
            ]
          },
          "execution_count": 18,
          "metadata": {},
          "output_type": "execute_result"
        }
      ],
      "source": [
        "np.array([1, 1, 1]) + np.array([-1, 0, 1])"
      ]
    },
    {
      "cell_type": "markdown",
      "metadata": {
        "id": "iQhlNa4OBrkw"
      },
      "source": [
        "Pandas ham buni qo'llab-quvvatlaydi, va indekslari mos elementlarga asoslangan amallarni  bajarilishni imkonini beradi. Qo'shish amali bilan faqat mos keladigan indekslar yig'indisi olinadi:\n"
      ]
    },
    {
      "cell_type": "code",
      "execution_count": null,
      "metadata": {
        "id": "lKUzWWZjBrkx",
        "outputId": "ce25fa6e-7af5-49c0-bfe6-9b9f8110d3be"
      },
      "outputs": [
        {
          "data": {
            "text/plain": [
              "0     NaN\n",
              "1     2.5\n",
              "2     7.5\n",
              "3    12.5\n",
              "4    17.5\n",
              "5     NaN\n",
              "dtype: float64"
            ]
          },
          "execution_count": 19,
          "metadata": {},
          "output_type": "execute_result"
        }
      ],
      "source": [
        "numbers = np.linspace(0, 10, num=5) # makes numpy array([0, 2.5, 5, 7.5, 10])\n",
        "x = pd.Series(numbers) # index is [0, 1, 2, 3, 4]\n",
        "y = pd.Series(numbers, index=pd.Index([1, 2, 3, 4, 5]))\n",
        "x + y"
      ]
    },
    {
      "cell_type": "markdown",
      "metadata": {
        "id": "ErExddH0Brkz"
      },
      "source": [
        "Biz faqat listga o'xshash strukturalarning butun sonli indekslari bilan cheklanmaymiz, va biz qatordagi nomlarni belgilashimiz mumkin. Nomlar istalgan vaqtda o'zgartirilishi mumkin va ular sanalar yoki hatto boshqa biror ustun bo'lishi mumkin.\n",
        "\n",
        "# `DataFrame`\n",
        "Har bir ustun uchun `Series` obyektiga ega bo'lish NumPy taqdimotiga nisbatan yaxshilanishdir; ammo, biz hali ham qiymatga asoslangan saralash yoki butun qatordan foydalanish kabi muammolarga duch kelamiz. `DataFrame` bizga bir nechta `Series` obyektlaridan tashkil topgan jadvallarni va qatordagi nomlarni belgilovchi umumiy `Index` obyektini taqdim etadi. Biz `DataFrame` obyekti yaratishimiz mumkin, bu esa ilgari ishlagan NumPy taqdimotlaridan biri asosida amalga oshiriladi (har bir ustun uchun `Series` obyektini yaratishimiz mumkin, ammo bunga hojat yo'q):\n"
      ]
    },
    {
      "cell_type": "code",
      "execution_count": null,
      "metadata": {
        "id": "or2F-BSxBrkz",
        "outputId": "4e3934d6-2722-4aca-d144-65d6d61a41d4"
      },
      "outputs": [
        {
          "data": {
            "text/html": [
              "<div>\n",
              "<style scoped>\n",
              "    .dataframe tbody tr th:only-of-type {\n",
              "        vertical-align: middle;\n",
              "    }\n",
              "\n",
              "    .dataframe tbody tr th {\n",
              "        vertical-align: top;\n",
              "    }\n",
              "\n",
              "    .dataframe thead th {\n",
              "        text-align: right;\n",
              "    }\n",
              "</style>\n",
              "<table border=\"1\" class=\"dataframe\">\n",
              "  <thead>\n",
              "    <tr style=\"text-align: right;\">\n",
              "      <th></th>\n",
              "      <th>time</th>\n",
              "      <th>place</th>\n",
              "      <th>magType</th>\n",
              "      <th>mag</th>\n",
              "      <th>alert</th>\n",
              "      <th>tsunami</th>\n",
              "    </tr>\n",
              "  </thead>\n",
              "  <tbody>\n",
              "    <tr>\n",
              "      <th>0</th>\n",
              "      <td>2018-10-13 11:10:23.560</td>\n",
              "      <td>262km NW of Ozernovskiy, Russia</td>\n",
              "      <td>mww</td>\n",
              "      <td>6.7</td>\n",
              "      <td>green</td>\n",
              "      <td>1</td>\n",
              "    </tr>\n",
              "    <tr>\n",
              "      <th>1</th>\n",
              "      <td>2018-10-13 04:34:15.580</td>\n",
              "      <td>25km E of Bitung, Indonesia</td>\n",
              "      <td>mww</td>\n",
              "      <td>5.2</td>\n",
              "      <td>green</td>\n",
              "      <td>0</td>\n",
              "    </tr>\n",
              "    <tr>\n",
              "      <th>2</th>\n",
              "      <td>2018-10-13 00:13:46.220</td>\n",
              "      <td>42km WNW of Sola, Vanuatu</td>\n",
              "      <td>mww</td>\n",
              "      <td>5.7</td>\n",
              "      <td>green</td>\n",
              "      <td>0</td>\n",
              "    </tr>\n",
              "    <tr>\n",
              "      <th>3</th>\n",
              "      <td>2018-10-12 21:09:49.240</td>\n",
              "      <td>13km E of Nueva Concepcion, Guatemala</td>\n",
              "      <td>mww</td>\n",
              "      <td>5.7</td>\n",
              "      <td>green</td>\n",
              "      <td>0</td>\n",
              "    </tr>\n",
              "    <tr>\n",
              "      <th>4</th>\n",
              "      <td>2018-10-12 02:52:03.620</td>\n",
              "      <td>128km SE of Kimbe, Papua New Guinea</td>\n",
              "      <td>mww</td>\n",
              "      <td>5.6</td>\n",
              "      <td>green</td>\n",
              "      <td>1</td>\n",
              "    </tr>\n",
              "  </tbody>\n",
              "</table>\n",
              "</div>"
            ],
            "text/plain": [
              "                      time                                  place magType  \\\n",
              "0  2018-10-13 11:10:23.560        262km NW of Ozernovskiy, Russia     mww   \n",
              "1  2018-10-13 04:34:15.580            25km E of Bitung, Indonesia     mww   \n",
              "2  2018-10-13 00:13:46.220              42km WNW of Sola, Vanuatu     mww   \n",
              "3  2018-10-12 21:09:49.240  13km E of Nueva Concepcion, Guatemala     mww   \n",
              "4  2018-10-12 02:52:03.620    128km SE of Kimbe, Papua New Guinea     mww   \n",
              "\n",
              "   mag  alert  tsunami  \n",
              "0  6.7  green        1  \n",
              "1  5.2  green        0  \n",
              "2  5.7  green        0  \n",
              "3  5.7  green        0  \n",
              "4  5.6  green        1  "
            ]
          },
          "execution_count": 20,
          "metadata": {},
          "output_type": "execute_result"
        }
      ],
      "source": [
        "df = pd.DataFrame(array_dict)\n",
        "\n",
        "# this will also work with the first representation\n",
        "# df = pd.DataFrame(data)\n",
        "\n",
        "df"
      ]
    },
    {
      "cell_type": "markdown",
      "metadata": {
        "id": "0JceFjrfBrk0"
      },
      "source": [
        "Biz asosiy ma'lumot turini `dtypes` yordamida tekshirishingiz mumkin (diqqat qiling, bu `Series` va `Index` obyektlaridagi `dtype` emas, chunki har bir ustun o'zining ma'lumot turiga ega bo'ladi):\n"
      ]
    },
    {
      "cell_type": "code",
      "execution_count": null,
      "metadata": {
        "id": "39JllPvnBrk0",
        "outputId": "08d0534f-feb9-4212-c5a0-629ecd80094b"
      },
      "outputs": [
        {
          "data": {
            "text/plain": [
              "time        object\n",
              "place       object\n",
              "magType     object\n",
              "mag        float64\n",
              "alert       object\n",
              "tsunami      int32\n",
              "dtype: object"
            ]
          },
          "execution_count": 21,
          "metadata": {},
          "output_type": "execute_result"
        }
      ],
      "source": [
        "df.dtypes"
      ]
    },
    {
      "cell_type": "markdown",
      "metadata": {
        "id": "loBi29LfBrk0"
      },
      "source": [
        "Biz asosiy ma'lumotlarni `values` atributi yordamida olamiz. Diqqat qiling, bu boshlang'ich NumPy taqdimotimizga juda o'xshash ko'rinadi:\n"
      ]
    },
    {
      "cell_type": "code",
      "execution_count": null,
      "metadata": {
        "id": "pW24eo40Brk1",
        "outputId": "ace4a2cd-0721-4b49-f822-e7453e2dc8ba"
      },
      "outputs": [
        {
          "data": {
            "text/plain": [
              "array([['2018-10-13 11:10:23.560', '262km NW of Ozernovskiy, Russia',\n",
              "        'mww', 6.7, 'green', 1],\n",
              "       ['2018-10-13 04:34:15.580', '25km E of Bitung, Indonesia', 'mww',\n",
              "        5.2, 'green', 0],\n",
              "       ['2018-10-13 00:13:46.220', '42km WNW of Sola, Vanuatu', 'mww',\n",
              "        5.7, 'green', 0],\n",
              "       ['2018-10-12 21:09:49.240',\n",
              "        '13km E of Nueva Concepcion, Guatemala', 'mww', 5.7, 'green', 0],\n",
              "       ['2018-10-12 02:52:03.620', '128km SE of Kimbe, Papua New Guinea',\n",
              "        'mww', 5.6, 'green', 1]], dtype=object)"
            ]
          },
          "execution_count": 22,
          "metadata": {},
          "output_type": "execute_result"
        }
      ],
      "source": [
        "df.values"
      ]
    },
    {
      "cell_type": "markdown",
      "metadata": {
        "id": "0vFMx2f9Brk1"
      },
      "source": [
        "Biz ustunlarni `columns` atributi yordamida ajratib olamiz. E'tibor bering, ustunlar aslida `Index` obyekti bo'lib, faqat boshqa o'qi bo'yicha"
      ]
    },
    {
      "cell_type": "code",
      "execution_count": null,
      "metadata": {
        "id": "s5FUTJsUBrk1",
        "outputId": "b1f61f65-41c8-44ca-f679-e6015c8259ca"
      },
      "outputs": [
        {
          "data": {
            "text/plain": [
              "Index(['time', 'place', 'magType', 'mag', 'alert', 'tsunami'], dtype='object')"
            ]
          },
          "execution_count": 23,
          "metadata": {},
          "output_type": "execute_result"
        }
      ],
      "source": [
        "df.columns"
      ]
    },
    {
      "cell_type": "markdown",
      "metadata": {
        "id": "-6HqFvHiBrk2"
      },
      "source": [
        "Quyidagi atributlar bilan ishlash  keng tarqalgan:\n",
        "\n",
        "|Atribut | Natija |\n",
        "| --- | --- |\n",
        "| `dtypes` | Har bir ustunning ma'lumot turlari |\n",
        "| `shape` | `DataFrame` obyekti o'lchamlari, `(satrlar soni, ustunlar soni)` shaklida |\n",
        "| `index` | `DataFrame` obyekti bo'ylab satrlar uchun `Index` obyekti |\n",
        "| `columns` | Ustunlar nomi ( `Index` obyekti sifatida) |\n",
        "| `values` | `DataFrame` obyekti ma'lumotlari |\n",
        "| `empty` | `DataFrame` obyekti bo'sh ekanligini tekshirish |\n",
        "\n",
        "`DataFrame` obyekti bo'ylab satrlar uchun `Index` obyekti `index` atributi orqali olinishi mumkin (bu `Series` ob'ektlari kabi):\n"
      ]
    },
    {
      "cell_type": "code",
      "execution_count": null,
      "metadata": {
        "id": "J8Xpxs5oBrk2",
        "outputId": "a0fb9f83-fcef-4abe-9ce2-f3e6821ad3df"
      },
      "outputs": [
        {
          "data": {
            "text/plain": [
              "RangeIndex(start=0, stop=5, step=1)"
            ]
          },
          "execution_count": 24,
          "metadata": {},
          "output_type": "execute_result"
        }
      ],
      "source": [
        "df.index"
      ]
    },
    {
      "cell_type": "markdown",
      "metadata": {
        "id": "xFg-0Da9Brk3"
      },
      "source": [
        "`Series` va `Index` ob'ektlari kabi, `DataFrame` obyektining o'lchamlarini `shape` atributi orqali olishimiz mumkin. Natija `(satrlar soni, ustunlar soni)` shaklida bo'ladi. Bizning `DataFrame` obyektimizda 5 satr va 6 ustun mavjud:\n"
      ]
    },
    {
      "cell_type": "code",
      "execution_count": null,
      "metadata": {
        "id": "eaTTrkzDBrk3",
        "outputId": "c3324757-8e7f-4011-d304-45d1c6eb81e0"
      },
      "outputs": [
        {
          "data": {
            "text/plain": [
              "(5, 6)"
            ]
          },
          "execution_count": 25,
          "metadata": {},
          "output_type": "execute_result"
        }
      ],
      "source": [
        "df.shape"
      ]
    },
    {
      "cell_type": "markdown",
      "metadata": {
        "id": "5_rKFWntBrk3"
      },
      "source": [
        "Shuni yodda tutingki, `DataFrame` ob'ektlari bilan arifmetik amallarni ham bajarishimiz mumkin. Pandas faqat indeks va ustun mos kelsa, amallarni bajaradi. Bu yerda qo'shish amali ko'rsatilgan. Stringlar bilan qo'shish esa ulashishni anglatadi, shuning uchun `pandas` satrlar (`time`, `place`, `magType`, va `alert`) bo'yicha qo'shish amalga oshirdi. Raqamli ustunlar (`mag` va `tsunami`) yig'indisini hisoblagan:\n"
      ]
    },
    {
      "cell_type": "code",
      "execution_count": null,
      "metadata": {
        "id": "eF-Oq5jdBrk4",
        "outputId": "f0da1a10-233a-4a23-bffc-25a10e557662"
      },
      "outputs": [
        {
          "data": {
            "text/html": [
              "<div>\n",
              "<style scoped>\n",
              "    .dataframe tbody tr th:only-of-type {\n",
              "        vertical-align: middle;\n",
              "    }\n",
              "\n",
              "    .dataframe tbody tr th {\n",
              "        vertical-align: top;\n",
              "    }\n",
              "\n",
              "    .dataframe thead th {\n",
              "        text-align: right;\n",
              "    }\n",
              "</style>\n",
              "<table border=\"1\" class=\"dataframe\">\n",
              "  <thead>\n",
              "    <tr style=\"text-align: right;\">\n",
              "      <th></th>\n",
              "      <th>time</th>\n",
              "      <th>place</th>\n",
              "      <th>magType</th>\n",
              "      <th>mag</th>\n",
              "      <th>alert</th>\n",
              "      <th>tsunami</th>\n",
              "    </tr>\n",
              "  </thead>\n",
              "  <tbody>\n",
              "    <tr>\n",
              "      <th>0</th>\n",
              "      <td>2018-10-13 11:10:23.5602018-10-13 11:10:23.560</td>\n",
              "      <td>262km NW of Ozernovskiy, Russia262km NW of Oze...</td>\n",
              "      <td>mwwmww</td>\n",
              "      <td>13.4</td>\n",
              "      <td>greengreen</td>\n",
              "      <td>2</td>\n",
              "    </tr>\n",
              "    <tr>\n",
              "      <th>1</th>\n",
              "      <td>2018-10-13 04:34:15.5802018-10-13 04:34:15.580</td>\n",
              "      <td>25km E of Bitung, Indonesia25km E of Bitung, I...</td>\n",
              "      <td>mwwmww</td>\n",
              "      <td>10.4</td>\n",
              "      <td>greengreen</td>\n",
              "      <td>0</td>\n",
              "    </tr>\n",
              "    <tr>\n",
              "      <th>2</th>\n",
              "      <td>2018-10-13 00:13:46.2202018-10-13 00:13:46.220</td>\n",
              "      <td>42km WNW of Sola, Vanuatu42km WNW of Sola, Van...</td>\n",
              "      <td>mwwmww</td>\n",
              "      <td>11.4</td>\n",
              "      <td>greengreen</td>\n",
              "      <td>0</td>\n",
              "    </tr>\n",
              "    <tr>\n",
              "      <th>3</th>\n",
              "      <td>2018-10-12 21:09:49.2402018-10-12 21:09:49.240</td>\n",
              "      <td>13km E of Nueva Concepcion, Guatemala13km E of...</td>\n",
              "      <td>mwwmww</td>\n",
              "      <td>11.4</td>\n",
              "      <td>greengreen</td>\n",
              "      <td>0</td>\n",
              "    </tr>\n",
              "    <tr>\n",
              "      <th>4</th>\n",
              "      <td>2018-10-12 02:52:03.6202018-10-12 02:52:03.620</td>\n",
              "      <td>128km SE of Kimbe, Papua New Guinea128km SE of...</td>\n",
              "      <td>mwwmww</td>\n",
              "      <td>11.2</td>\n",
              "      <td>greengreen</td>\n",
              "      <td>2</td>\n",
              "    </tr>\n",
              "  </tbody>\n",
              "</table>\n",
              "</div>"
            ],
            "text/plain": [
              "                                             time  \\\n",
              "0  2018-10-13 11:10:23.5602018-10-13 11:10:23.560   \n",
              "1  2018-10-13 04:34:15.5802018-10-13 04:34:15.580   \n",
              "2  2018-10-13 00:13:46.2202018-10-13 00:13:46.220   \n",
              "3  2018-10-12 21:09:49.2402018-10-12 21:09:49.240   \n",
              "4  2018-10-12 02:52:03.6202018-10-12 02:52:03.620   \n",
              "\n",
              "                                               place magType   mag  \\\n",
              "0  262km NW of Ozernovskiy, Russia262km NW of Oze...  mwwmww  13.4   \n",
              "1  25km E of Bitung, Indonesia25km E of Bitung, I...  mwwmww  10.4   \n",
              "2  42km WNW of Sola, Vanuatu42km WNW of Sola, Van...  mwwmww  11.4   \n",
              "3  13km E of Nueva Concepcion, Guatemala13km E of...  mwwmww  11.4   \n",
              "4  128km SE of Kimbe, Papua New Guinea128km SE of...  mwwmww  11.2   \n",
              "\n",
              "        alert  tsunami  \n",
              "0  greengreen        2  \n",
              "1  greengreen        0  \n",
              "2  greengreen        0  \n",
              "3  greengreen        0  \n",
              "4  greengreen        2  "
            ]
          },
          "execution_count": 26,
          "metadata": {},
          "output_type": "execute_result"
        }
      ],
      "source": [
        "df + df"
      ]
    },
    {
      "cell_type": "markdown",
      "metadata": {
        "id": "u2P2iYvPBrk4"
      },
      "source": [
        "<hr>\n",
        "<div>\n",
        "    <a href=\"../ch_01/introduction_to_data_analysis.ipynb\">\n",
        "        <button style=\"float: left;\">&#8592; Chapter 1</button>\n",
        "    </a>\n",
        "    <a href=\"./2-creating_dataframes.ipynb\">\n",
        "        <button style=\"float: right;\">Next Notebook &#8594;</button>\n",
        "    </a>\n",
        "</div>\n",
        "<br>\n",
        "<hr>"
      ]
    }
  ],
  "metadata": {
    "kernelspec": {
      "display_name": ".venv",
      "language": "python",
      "name": "python3"
    },
    "language_info": {
      "codemirror_mode": {
        "name": "ipython",
        "version": 3
      },
      "file_extension": ".py",
      "mimetype": "text/x-python",
      "name": "python",
      "nbconvert_exporter": "python",
      "pygments_lexer": "ipython3",
      "version": "3.8.5"
    },
    "colab": {
      "provenance": [],
      "include_colab_link": true
    }
  },
  "nbformat": 4,
  "nbformat_minor": 0
}
